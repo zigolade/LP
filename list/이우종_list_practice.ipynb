{
  "nbformat": 4,
  "nbformat_minor": 0,
  "metadata": {
    "kernelspec": {
      "display_name": "Python 3",
      "language": "python",
      "name": "python3"
    },
    "language_info": {
      "codemirror_mode": {
        "name": "ipython",
        "version": 3
      },
      "file_extension": ".py",
      "mimetype": "text/x-python",
      "name": "python",
      "nbconvert_exporter": "python",
      "pygments_lexer": "ipython3",
      "version": "3.6.6"
    },
    "colab": {
      "name": "이우종_list_practice.ipynb",
      "provenance": [],
      "collapsed_sections": []
    }
  },
  "cells": [
    {
      "cell_type": "markdown",
      "metadata": {
        "id": "1wpPNEYSy-Tu"
      },
      "source": [
        "# 문제 1.\n",
        "- 문자 10개를 저장할 수 있는 리스트를 만들고 10개의 문자를 입력받아 입력받은 문자를 이어서 출력하는 프로그램을 작성하시오.\n",
        "- 입력 예: A B C D E F G H I J\n",
        "- 출력 예: ABCDEFGHIJ"
      ]
    },
    {
      "cell_type": "code",
      "metadata": {
        "id": "HfryDyz2y-T4",
        "colab": {
          "base_uri": "https://localhost:8080/"
        },
        "outputId": "0be0df37-bdce-4f31-c1aa-61d0a96c15b6"
      },
      "source": [
        "list = []\n",
        "\n",
        "for i in range(10): # 10번 입력해서 리스트에 모을 수있게만들고\n",
        "  n = input(\"입력: \")\n",
        "  list.append(n)\n",
        "\n",
        "for i in range(10): # 옵션 달아서 출력해서 붙여서 보이게 한다.\n",
        "  print(list[i], end=\"\")"
      ],
      "execution_count": 1,
      "outputs": [
        {
          "output_type": "stream",
          "text": [
            "입력: a\n",
            "입력: d\n",
            "입력: f\n",
            "입력: g\n",
            "입력: h\n",
            "입력: j\n",
            "입력: t\n",
            "입력: e\n",
            "입력: u\n",
            "입력: k\n",
            "adfghjteuk"
          ],
          "name": "stdout"
        }
      ]
    },
    {
      "cell_type": "code",
      "metadata": {
        "id": "PzuI1Ev1y-T5"
      },
      "source": [
        ""
      ],
      "execution_count": null,
      "outputs": []
    },
    {
      "cell_type": "markdown",
      "metadata": {
        "id": "Hib4sNRhy-T5"
      },
      "source": [
        "# 문제 2.\n",
        "- 10개의 문자를 입력받아서 첫 번째 네 번째 일곱 번째 입력받은 문자를 차례로 출력하는 프로그램을 작성하시오.\n",
        "- 입력 예: A B C D E F G H I J\n",
        "- 출력 예: A D G"
      ]
    },
    {
      "cell_type": "code",
      "metadata": {
        "id": "xeTVOHUty-T5",
        "colab": {
          "base_uri": "https://localhost:8080/"
        },
        "outputId": "bf47d88c-15ed-41ac-a36d-01a2102c07d7"
      },
      "source": [
        "list = []\n",
        "\n",
        "for i in range(10): # 10번 입력해서 리스트에 모을 수있게만들고\n",
        "  n = input(\"입력: \")\n",
        "  list.append(n)\n",
        "\n",
        "print(list[0],list[3],list[6], end=\" \") # 뭐.. 인덱스 지정해서 출력하면 되겠지."
      ],
      "execution_count": 2,
      "outputs": [
        {
          "output_type": "stream",
          "text": [
            "입력: q\n",
            "입력: w\n",
            "입력: e\n",
            "입력: r\n",
            "입력: \n",
            "입력: y\n",
            "입력: u\n",
            "입력: w\n",
            "입력: e\n",
            "입력: s\n",
            "q r u "
          ],
          "name": "stdout"
        }
      ]
    },
    {
      "cell_type": "code",
      "metadata": {
        "id": "iYgnNyE0y-T6"
      },
      "source": [
        ""
      ],
      "execution_count": null,
      "outputs": []
    },
    {
      "cell_type": "markdown",
      "metadata": {
        "id": "5X6iMat3y-T6"
      },
      "source": [
        "# 문제 3.\n",
        "- 빈 리스트을 선언하고 정수를 차례로 입력받다가 0 이 입력되면 0 을 제외하고 그 때까지 입력된 정수를 가장 나중에 입력된 정수부터 차례대로 출력하는 프로그램을 작성하시오.\n",
        "- 입력 예: \n",
        "    * 3 \n",
        "    * 5\n",
        "    * 10 \n",
        "    * 55 \n",
        "    * 0\n",
        "- 출력 예: 55 10 5 3"
      ]
    },
    {
      "cell_type": "code",
      "metadata": {
        "id": "mSSG4ViDy-T6",
        "colab": {
          "base_uri": "https://localhost:8080/"
        },
        "outputId": "96731ba2-2b33-4af2-9edb-8c5f8a149d82"
      },
      "source": [
        "list = []\n",
        "n = int(input(\"정수: \"))\n",
        "\n",
        "while n != 0:   # 조건문 달아서 리스트에 쭉 넣어주다가\n",
        "  list.append(n)\n",
        "  n = int(input(\"정수: \"))\n",
        "\n",
        "print(list[::-1])  # 역순으로 출력"
      ],
      "execution_count": 5,
      "outputs": [
        {
          "output_type": "stream",
          "text": [
            "정수: 4\n",
            "정수: 5\n",
            "정수: 2\n",
            "정수: 3\n",
            "정수: 0\n",
            "[3, 2, 5, 4]\n"
          ],
          "name": "stdout"
        }
      ]
    },
    {
      "cell_type": "code",
      "metadata": {
        "id": "lHPr9eiLy-T6"
      },
      "source": [
        ""
      ],
      "execution_count": null,
      "outputs": []
    },
    {
      "cell_type": "markdown",
      "metadata": {
        "id": "8ozcCzB_y-T7"
      },
      "source": [
        "# 문제 4.\n",
        "- 1반부터 6반까지의 평균점수를 저장한 후 두 반의 반 번호를 입력받아 두 반 평균점수의 합을 출력하는 프로그램을 작성하시오.\n",
        "- 반별 평균점수는 초기값으로 1반부터 차례로 85.6 79.5 83.1 80.0 78.2 75.0으로 초기화하고, \n",
        "- 출력은 소수 두 번째 자리에서 반올림하여 소수 첫째자리까지 한다.\n",
        "- 입력 예: 1 3 (1반 3반을 의미)\n",
        "- 출력 예: 168.7"
      ]
    },
    {
      "cell_type": "code",
      "metadata": {
        "id": "gs0QTuvky-T7",
        "colab": {
          "base_uri": "https://localhost:8080/"
        },
        "outputId": "14c0c397-f0e7-447b-c9d7-32d76db94f2e"
      },
      "source": [
        "# 문제가 잘 이해가 안가는데..? 입력 받아놓고 왜 초기화하는거지? 그냥 빈 리스트부터 채워나가면 되는건가..>?\n",
        "\n",
        "list = []\n",
        "\n",
        "a = 85.6\n",
        "b = 79.5\n",
        "c = 83.1\n",
        "d = 80.0\n",
        "e = 78.2\n",
        "f = 75.0\n",
        "\n",
        "list.append(a)\n",
        "list.append(b)\n",
        "list.append(c)\n",
        "list.append(d)\n",
        "list.append(e)\n",
        "list.append(f)\n",
        "\n",
        "\n",
        "x = int(input(\"첫번째반: \"))\n",
        "y = int(input(\"두번째반: \"))\n",
        "\n",
        "sum = round(list[x-1]+list[y-1], 1) # 리스트 인덱스로 찾으면 된다.\n",
        "print(sum)"
      ],
      "execution_count": 8,
      "outputs": [
        {
          "output_type": "stream",
          "text": [
            "첫번째반: 1\n",
            "두번째반: 3\n",
            "168.7\n"
          ],
          "name": "stdout"
        }
      ]
    },
    {
      "cell_type": "code",
      "metadata": {
        "id": "ljeHwH0Jy-T7"
      },
      "source": [
        ""
      ],
      "execution_count": null,
      "outputs": []
    },
    {
      "cell_type": "markdown",
      "metadata": {
        "id": "sxTOTGqwy-T7"
      },
      "source": [
        "# 문제 5.\n",
        "- 10개의 정수를 입력받아 그 중 가장 작은 수를 출력하는 프로그램을 작성하시오.\n",
        "- 입력 예: 5 10 8 55 6 31 12 24 61 2\n",
        "- 출력 예: 2"
      ]
    },
    {
      "cell_type": "code",
      "metadata": {
        "id": "Jr8hszFRy-T8",
        "colab": {
          "base_uri": "https://localhost:8080/"
        },
        "outputId": "947ca555-ef2b-49fb-b100-478354dda1f7"
      },
      "source": [
        "list = []\n",
        "\n",
        "for i in range(10): # 10번 입력해서 리스트에 모을 수있게만들고\n",
        "  n = input(\"입력: \")\n",
        "  list.append(n)\n",
        "\n",
        "print(min(list)) # 최소값 출력"
      ],
      "execution_count": 9,
      "outputs": [
        {
          "output_type": "stream",
          "text": [
            "입력: 1\n",
            "입력: 4\n",
            "입력: 3\n",
            "입력: 2\n",
            "입력: 6\n",
            "입력: 5\n",
            "입력: 4\n",
            "입력: 3\n",
            "입력: 7\n",
            "입력: 8\n",
            "1\n"
          ],
          "name": "stdout"
        }
      ]
    },
    {
      "cell_type": "code",
      "metadata": {
        "id": "JtA2gUUAy-T8"
      },
      "source": [
        ""
      ],
      "execution_count": null,
      "outputs": []
    },
    {
      "cell_type": "markdown",
      "metadata": {
        "id": "t6408HTPy-T8"
      },
      "source": [
        "# 문제 6.\n",
        "- 10개의 정수를 입력받아 100 미만의 수 중 가장 큰 수와 100 이상의 수 중 가장 작은 수를 출력하는 프로그램을 작성하시오.\n",
        "- 입력 예: 88 123 659 15 443 1 99 313 105 48\n",
        "- 출력 예: 99 105"
      ]
    },
    {
      "cell_type": "code",
      "metadata": {
        "id": "6S1l0Ryjy-T8",
        "colab": {
          "base_uri": "https://localhost:8080/"
        },
        "outputId": "5b38ffa2-3f50-4633-d0d4-2d072b949c97"
      },
      "source": [
        "list_down = [] # 100미만의 수 그룹\n",
        "list_up = [] # 100 이상의 수의 그룹\n",
        "\n",
        "for i in range(10): # 10번 입력해서 리스트에 모을 수있게만들고\n",
        "  n = int(input(\"입력: \"))\n",
        "  if n >= 100:      # n값이 100이상이냐에 따라 들어가는 그룹을 분류해서\n",
        "    list_up.append(n) \n",
        "  else:\n",
        "    list_down.append(n)\n",
        "\n",
        "print(max(list_down)) # 원하는 그룹에서 최소값 최대값을 뽑는다.\n",
        "print(min(list_up))\n",
        "  "
      ],
      "execution_count": 11,
      "outputs": [
        {
          "output_type": "stream",
          "text": [
            "입력: 1\n",
            "입력: 13\n",
            "입력: 65\n",
            "입력: 177\n",
            "입력: 188\n",
            "입력: 299\n",
            "입력: 177\n",
            "입력: 99\n",
            "입력: 52\n",
            "입력: 111\n",
            "99\n",
            "111\n"
          ],
          "name": "stdout"
        }
      ]
    },
    {
      "cell_type": "code",
      "metadata": {
        "id": "osr-p5eLy-T8"
      },
      "source": [
        ""
      ],
      "execution_count": null,
      "outputs": []
    },
    {
      "cell_type": "markdown",
      "metadata": {
        "id": "YR-wuuO-y-T8"
      },
      "source": [
        "# 문제 7.\n",
        "- 10개의 정수를 입력받아 리스트에 저장한 후 짝수 번째 입력된 값의 합과 홀수 번째 입력된 값의 평균을 출력하는 프로그램을 작성하시오.\n",
        "- 평균은 반올림하여 소수첫째자리까지 출력한다.\n",
        "- 입력 예: 95 100 88 65 76 89 58 93 77 99\n",
        "- 출력 예: \n",
        "    * sum : 446\n",
        "    * avg : 78.8"
      ]
    },
    {
      "cell_type": "code",
      "metadata": {
        "id": "8_mRW1_dy-T9",
        "colab": {
          "base_uri": "https://localhost:8080/"
        },
        "outputId": "88296ab5-3869-464c-9796-eb71bac391d2"
      },
      "source": [
        "list = []\n",
        "\n",
        "even_sum = 0 # 짝수번째 수의 합들이다.\n",
        "n_e = 0 # 짝수번째 수의 갯수들이다.\n",
        "\n",
        "\n",
        "\n",
        "odd_sum = 0 # 홀수도 만들어준다.\n",
        "n_o = 0\n",
        "\n",
        "\n",
        "\n",
        "for i in range(10): # 10번 입력해서 리스트에 모을 수있게만들고\n",
        "  n = int(input(\"입력: \"))\n",
        "  if i % 2 == 1: # i 가 짝수여야 홀수번째 수다.\n",
        "    even_sum += n\n",
        "    n_e += 1\n",
        "  if i % 2 == 0: \n",
        "    odd_sum += n\n",
        "    n_o += 1\n",
        "\n",
        "odd_avg = round(odd_sum / n_o, 1) \n",
        "print(even_sum) \n",
        "print(odd_avg)\n",
        "  \n",
        "\n",
        "\n"
      ],
      "execution_count": 17,
      "outputs": [
        {
          "output_type": "stream",
          "text": [
            "입력: 95\n",
            "입력: 100\n",
            "입력: 88\n",
            "입력: 65\n",
            "입력: 76\n",
            "입력: 89\n",
            "입력: 58\n",
            "입력: 93\n",
            "입력: 77\n",
            "입력: 99\n",
            "446\n",
            "78.8\n"
          ],
          "name": "stdout"
        }
      ]
    },
    {
      "cell_type": "code",
      "metadata": {
        "id": "KybuuXqly-T9"
      },
      "source": [
        ""
      ],
      "execution_count": null,
      "outputs": []
    },
    {
      "cell_type": "markdown",
      "metadata": {
        "id": "sYI9NSkPy-T9"
      },
      "source": [
        "# 문제 8.\n",
        "- 10개의 정수를 입력받아 리스트에 저장한 후 내림차순으로 정렬하여 출력하시오.\n",
        "- 입력 예: 95 100 88 65 76 89 58 93 77 99\n",
        "- 출력 예: 100 99 95 93 89 88 77 76 65 58"
      ]
    },
    {
      "cell_type": "code",
      "metadata": {
        "id": "4--CfOUNy-T9",
        "colab": {
          "base_uri": "https://localhost:8080/"
        },
        "outputId": "a79a2ca3-2417-4bbc-b8cd-3138cbd04e72"
      },
      "source": [
        "list = []\n",
        "\n",
        "for i in range(10): # 10번 입력해서 리스트에 모을 수있게만들고\n",
        "  n = int(input(\"입력: \"))\n",
        "  list.append(n)\n",
        "\n",
        "list.sort(reverse=True) # ,,, 이렇게 하면 내림차순이라 하더라. 트루 빼면 오름차순이고.\n",
        "print(list)"
      ],
      "execution_count": 23,
      "outputs": [
        {
          "output_type": "stream",
          "text": [
            "입력: 1\n",
            "입력: 3\n",
            "입력: 6\n",
            "입력: 5\n",
            "입력: 4\n",
            "입력: 3\n",
            "입력: 7\n",
            "입력: 3\n",
            "입력: 2\n",
            "입력: 5\n",
            "[7, 6, 5, 5, 4, 3, 3, 3, 2, 1]\n"
          ],
          "name": "stdout"
        }
      ]
    },
    {
      "cell_type": "code",
      "metadata": {
        "id": "pYpzYwtsy-T9"
      },
      "source": [
        ""
      ],
      "execution_count": null,
      "outputs": []
    }
  ]
}