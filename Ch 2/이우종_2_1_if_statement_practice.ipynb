{
  "nbformat": 4,
  "nbformat_minor": 0,
  "metadata": {
    "kernelspec": {
      "display_name": "Python 3",
      "language": "python",
      "name": "python3"
    },
    "language_info": {
      "codemirror_mode": {
        "name": "ipython",
        "version": 3
      },
      "file_extension": ".py",
      "mimetype": "text/x-python",
      "name": "python",
      "nbconvert_exporter": "python",
      "pygments_lexer": "ipython3",
      "version": "3.6.6"
    },
    "colab": {
      "name": "이우종_2.1 if_statement_practice.ipynb",
      "provenance": [],
      "collapsed_sections": []
    }
  },
  "cells": [
    {
      "cell_type": "markdown",
      "metadata": {
        "id": "JsWrZowUSwi1"
      },
      "source": [
        "# 문제 1.\n",
        "- 정수를 입력받아 첫 줄에 입력 받은 숫자를 출력하고 둘째 줄에 음수이면 “minus” 라고 출력하는 프로그램을 작성하시오.\n",
        "- 입력 예1: -5\n",
        "- 출력 예1: \n",
        "    * -5\n",
        "    * minus\n",
        "\n",
        "- 입력 예2: 5\n",
        "- 출력 예2: \n",
        "    * 5"
      ]
    },
    {
      "cell_type": "code",
      "metadata": {
        "id": "3LcZwmyPSwi8",
        "colab": {
          "base_uri": "https://localhost:8080/"
        },
        "outputId": "03545ffc-b3ac-45e0-fa12-502e66f4d0a9"
      },
      "source": [
        "num = int(input(\"정수를 입력해주세요: \")) # 수 입력받아서 조건문으로 0보다 작은 수 일경우에만 minus 글귀를 출력시킨다.\n",
        "if num >= 0:\n",
        "  print(num)\n",
        "else:\n",
        "  print(num)\n",
        "  print(\"minus\")\n"
      ],
      "execution_count": null,
      "outputs": [
        {
          "output_type": "stream",
          "text": [
            "정수를 입력해주세요: -4\n",
            "-4\n",
            "minus\n"
          ],
          "name": "stdout"
        }
      ]
    },
    {
      "cell_type": "code",
      "metadata": {
        "id": "jl8fQD0zSwi9"
      },
      "source": [
        ""
      ],
      "execution_count": null,
      "outputs": []
    },
    {
      "cell_type": "markdown",
      "metadata": {
        "id": "EV6FBH8PSwi9"
      },
      "source": [
        "# 문제 2.\n",
        "- “몸무게+100-키”를 비만수치 공식이라고 하자.\n",
        "- 키와 몸무게를 자연수로 입력받아 첫 번째 줄에 비만수치를 출력하고, 비만수치가 0보다 크면 다음줄에 비만(\"Obesity\")이라는 메시지를 출력하는 프로그램을 작성하시오.\n",
        "- 입력 예: 155 60\n",
        "- 출력 예: \n",
        "    * 5\n",
        "    * Obesity"
      ]
    },
    {
      "cell_type": "code",
      "metadata": {
        "id": "kF7icXQTSwi-",
        "colab": {
          "base_uri": "https://localhost:8080/"
        },
        "outputId": "5a2d6536-b2dc-4215-c3e1-223e744f8425"
      },
      "source": [
        "# 먼저 키와 몸무게를 입력받는다.\n",
        "hei, wei = int(input(\"키를 입력하세요: \")), int(input(\"몸무게를 입력하세요: \"))\n",
        "\n",
        "# 비만수치 공식을 지정한다.\n",
        "rule = wei + 100 - hei\n",
        "# 일단 비만수치 보여준다\n",
        "print(rule)\n",
        "# 비만수치가 0보다 클때 obesity 메세지를 출력하는 조건문을 작성한다.\n",
        "if rule > 0 :\n",
        "  print(\"Obesity\")\n",
        "\n"
      ],
      "execution_count": null,
      "outputs": [
        {
          "output_type": "stream",
          "text": [
            "키를 입력하세요: 180\n",
            "몸무게를 입력하세요: 90\n",
            "10\n",
            "Obesity\n"
          ],
          "name": "stdout"
        }
      ]
    },
    {
      "cell_type": "code",
      "metadata": {
        "id": "DCGFoRYpSwi-"
      },
      "source": [
        ""
      ],
      "execution_count": null,
      "outputs": []
    },
    {
      "cell_type": "markdown",
      "metadata": {
        "id": "lb0F8jfCSwi-"
      },
      "source": [
        "# 문제 3.\n",
        "- 나이를 입력받아 20살 이상이면 \"adult\"라고 출력하고 그렇지 않으면 몇 년후에 성인이 되는지를 \"○ years later\"라는 메시지를 출력하는 프로그램을 작성하시오.\n",
        "- 입력 예: 18\n",
        "- 출력 예: 2 years later"
      ]
    },
    {
      "cell_type": "code",
      "metadata": {
        "id": "ah7jg7j6Swi-",
        "colab": {
          "base_uri": "https://localhost:8080/"
        },
        "outputId": "f028ab40-e74b-415f-c90a-7f210a1746a9"
      },
      "source": [
        "# 나이 받고 조건문으로 adult 나오게하고 미성년의 경우 '20-나이' 값으로 years later 나오게한다.\n",
        "\n",
        "age = int(input(\"나이 입력: \"))\n",
        "\n",
        "if age >= 20:\n",
        "  print(\"adult\")\n",
        "else:\n",
        "  print(20-age,\"years later\")"
      ],
      "execution_count": null,
      "outputs": [
        {
          "output_type": "stream",
          "text": [
            "나이 입력: 18\n",
            "2 years later\n"
          ],
          "name": "stdout"
        }
      ]
    },
    {
      "cell_type": "code",
      "metadata": {
        "id": "uu-vMNd9Swi_"
      },
      "source": [
        ""
      ],
      "execution_count": null,
      "outputs": []
    },
    {
      "cell_type": "markdown",
      "metadata": {
        "id": "MOe6Ky19Swi_"
      },
      "source": [
        "# 문제 4.\n",
        "- 복싱체급은 몸무게가 50.80kg 이하를 Flyweight 61.23kg 이하를 Lightweight, 72.57kg 이하를 Middleweight, 88.45kg 이하를 Cruiserweight, 88.45kg 초과를 Heavyweight라고 하자.\n",
        "\n",
        "- 몸무게를 입력받아 체급을 출력하는 프로그램을 작성하시오.\n",
        "- 입력 예: 87.3\n",
        "- 출력 예: Cruiserweight"
      ]
    },
    {
      "cell_type": "code",
      "metadata": {
        "id": "OMriWkSfSwi_",
        "colab": {
          "base_uri": "https://localhost:8080/"
        },
        "outputId": "a1f3e8b5-b8ee-4d1a-b328-e5e1f70119d7"
      },
      "source": [
        "# elif 쓰는 문제. 상위 체급부터 차분히 나눠가야겠다.\n",
        "\n",
        "wei = round(int(input(\"몸무게를 쓰시오(kg): \")), 2)\n",
        "\n",
        "if wei > 88.45 :\n",
        "  print(\"Heavyweight\")\n",
        "elif wei > 72.57:\n",
        "  print(\"Cruiserweight\")\n",
        "elif wei > 61.23:\n",
        "  print(\"Middleweight\")\n",
        "elif wei > 50.80:\n",
        "  print(\"Flyweight\")\n",
        "  \n"
      ],
      "execution_count": null,
      "outputs": [
        {
          "output_type": "stream",
          "text": [
            "몸무게를 쓰시오(kg): 80\n",
            "Cruiserweight\n"
          ],
          "name": "stdout"
        }
      ]
    },
    {
      "cell_type": "code",
      "metadata": {
        "id": "f-wEOxhESwi_"
      },
      "source": [
        ""
      ],
      "execution_count": null,
      "outputs": []
    },
    {
      "cell_type": "markdown",
      "metadata": {
        "id": "R9ZgQpiJSwi_"
      },
      "source": [
        "# 문제 5.\n",
        "- 두 개의 실수를 입력받아 모두 4.0 이상이면 \"A\", 모두 3.0 이상이면 \"B\", 아니면 \"C\" 라고 출력하는 프로그램을 작성하시오.\n",
        "- 입력 예1: 4.3 3.5\n",
        "- 출력 예1: B\n",
        "\n",
        "- 입력 예2: 4.0 2.9\n",
        "- 출력 예2: C\n"
      ]
    },
    {
      "cell_type": "code",
      "metadata": {
        "id": "un0pRFuPSwjA",
        "colab": {
          "base_uri": "https://localhost:8080/"
        },
        "outputId": "2fea14f7-7494-4f06-f01e-1c5e1ac96017"
      },
      "source": [
        "# 두개이 실수(float) 받고 and 조건문을 활용해서 푸는 문제. \n",
        "\n",
        "num1, num2 = round(float(input(\"첫번째 실수: \")),1), round(float(input(\"두번째 실수: \")),1) # 실수로 변환하고 소수점 첫째자리까지 나오게함\n",
        "\n",
        "if num1 > 4.0 and num2 > 4.0 :\n",
        "  print(\"A\")\n",
        "elif num1 > 3.0 and num2 > 3.0 : # B 나오게 하는 조건 설정\n",
        "  print(\"B\")\n",
        "else:\n",
        "  print(\"C\")"
      ],
      "execution_count": null,
      "outputs": [
        {
          "output_type": "stream",
          "text": [
            "첫번째 실수: 1\n",
            "두번째 실수: 4\n",
            "C\n"
          ],
          "name": "stdout"
        }
      ]
    },
    {
      "cell_type": "code",
      "metadata": {
        "id": "ihxyCNUbSwjA"
      },
      "source": [
        ""
      ],
      "execution_count": null,
      "outputs": []
    },
    {
      "cell_type": "markdown",
      "metadata": {
        "id": "-InNR_MtSwjA"
      },
      "source": [
        "# 문제 6.\n",
        "- 영문 대문자를 입력받아 \n",
        "- 'A'이면 “Excellent”, \n",
        "- 'B'이면 “Good”, \n",
        "- 'C'이면 “Usually”, \n",
        "- 'D'이면 “Effort”, \n",
        "- 'F'이면 “Failure”, \n",
        "- 그 외 문자이면 “error” 라고 출력하는 프로그램을 작성하시오.\n",
        "- 입력 예: B\n",
        "- 출력 예: Good"
      ]
    },
    {
      "cell_type": "code",
      "metadata": {
        "id": "7AV2UjqjSwjA",
        "colab": {
          "base_uri": "https://localhost:8080/"
        },
        "outputId": "9d07c6cb-131c-40f9-c06e-872b55ac1671"
      },
      "source": [
        "# 알파벳 하나 받아서 if 조건문 여러개.. 쓰는거 맞나. \n",
        "# VS에서는 제대로 구현됩니다. 구글 드라이브에서는 안되는군요.\n",
        "\n",
        "eng = input(\"영문 대문자 하나 쓰세요: \")\n",
        "\n",
        "if eng == \"A\":\n",
        "  print(\"Excellent\")\n",
        "elif eng == \"B\":\n",
        "  print(\"Good\")\n",
        "elif eng == \"C\":\n",
        "  print(\"Usually\")\n",
        "elif eng == \"D\":\n",
        "  print(\"Effort\")\n",
        "elif eng == \"F\":\n",
        "  print(Failure)\n",
        "else :\n",
        "  print(error)"
      ],
      "execution_count": 9,
      "outputs": [
        {
          "output_type": "stream",
          "text": [
            "영문 대문자 하나 쓰세요: D\n",
            "Effort\n"
          ],
          "name": "stdout"
        }
      ]
    },
    {
      "cell_type": "code",
      "metadata": {
        "id": "diDCejnaSwjA"
      },
      "source": [
        ""
      ],
      "execution_count": null,
      "outputs": []
    },
    {
      "cell_type": "markdown",
      "metadata": {
        "id": "y1w-0wRdSwjA"
      },
      "source": [
        "# 문제 7.\n",
        "- 3개의 정수를 입력받아 조건문을 이용하여 입력받은 수들 중 최소값을 출력하는 프로그램을 작성하시오.\n",
        "- 입력 예: 18 -5 10\n",
        "- 출력 예: -5"
      ]
    },
    {
      "cell_type": "code",
      "metadata": {
        "id": "eOwzPo1XSwjA",
        "colab": {
          "base_uri": "https://localhost:8080/"
        },
        "outputId": "6f2870bd-c6e1-4f1c-d2fd-2b3b228fa564"
      },
      "source": [
        "# 3개 int 입력 받고 min(x, x, x) 으로 출력하고 싶지만 조건문을 이용하라고 되어있구나...\n",
        "\n",
        "num1 = int(input(\"정수1: \"))\n",
        "num2 = int(input(\"정수2: \"))\n",
        "num3 = int(input(\"정수3: \"))\n",
        "\n",
        "if num2 >= num1 and num3 >= num1:  # num1이 가장 작을 때 min값을 num1로 정의\n",
        "  min = num1\n",
        "elif num1 >= num2 and num3 >= num2: # num2가 가장 작을 때 min값을 num2로 정의\n",
        "  min = num2\n",
        "else:\n",
        "  min = num3 # 뒤 두 경우가 아니면 무조건 min 값은 num3\n",
        "print(min)"
      ],
      "execution_count": null,
      "outputs": [
        {
          "output_type": "stream",
          "text": [
            "정수1: 1\n",
            "정수2: 5\n",
            "정수3: 3\n",
            "1\n"
          ],
          "name": "stdout"
        }
      ]
    },
    {
      "cell_type": "code",
      "metadata": {
        "id": "8p_HW1hgSwjB"
      },
      "source": [
        ""
      ],
      "execution_count": null,
      "outputs": []
    },
    {
      "cell_type": "markdown",
      "metadata": {
        "id": "mpaH2sgrSwjB"
      },
      "source": [
        "# 문제 8.\n",
        "- 년도를 입력받아 윤년(leap year)인지 평년(common year)인지 판단하는 프로그램을 작성하시오.\n",
        "- 400으로 나누어떨어지면 윤년이다. 또는 4로 나누어떨어지고 100으로 나누어떨어지지 않으면 윤년이다. 나머지는 모두 평년이다.\n",
        "- 입력 예: 2008\n",
        "- 출력 예: leap year"
      ]
    },
    {
      "cell_type": "code",
      "metadata": {
        "id": "P9_Td6CfSwjC",
        "colab": {
          "base_uri": "https://localhost:8080/"
        },
        "outputId": "4dcd9800-5351-41a9-e0ee-e2aae8c33d18"
      },
      "source": [
        "year = int(input(\"연도를 쓰세요: \"))\n",
        "\n",
        "if year % 400 == 0: # 400으로 나누어서 나머지가 0이면 윤년.\n",
        "  print(\"leap year\")\n",
        "elif year % 4 == 0 and year % 100 != 0:\n",
        "  print(\"leap year\") # 4로 나누어 떨어지지만 100으로는 안나누어 떨어질때도 윤년.\n",
        "else:\n",
        "  print(\"common year\") # 나머진 평년"
      ],
      "execution_count": null,
      "outputs": [
        {
          "output_type": "stream",
          "text": [
            "연도를 쓰세요: 2009\n",
            "common year\n"
          ],
          "name": "stdout"
        }
      ]
    },
    {
      "cell_type": "code",
      "metadata": {
        "id": "q6eTPqZmSwjC"
      },
      "source": [
        ""
      ],
      "execution_count": null,
      "outputs": []
    },
    {
      "cell_type": "markdown",
      "metadata": {
        "id": "U3XkVYRbSwjC"
      },
      "source": [
        "# 문제 9. \n",
        "- 1~12사이의 정수를 입력받아 평년의 경우 입력받은 월을 입력받아 평년의 경우 해당 월의 날수를 출력하는 프로그램을 작성하시오.\n",
        "- 평년의 경우 1월부터 12월까지 일수는 각각 31, 28, 31, 30, 31, 30, 31, 31, 30, 31, 30, 31일이다.\n",
        "- 입력 예: 2\n",
        "- 출력 예: 28"
      ]
    },
    {
      "cell_type": "code",
      "metadata": {
        "id": "mPbEuZlASwjC",
        "colab": {
          "base_uri": "https://localhost:8080/"
        },
        "outputId": "309f62c0-2724-46ad-8f23-f2f8c38ec794"
      },
      "source": [
        "# 무조건 평년을 입력받는다고 전제하겠다.\n",
        "# 월이므로 무조건 1~12의 숫자중의 하나를 입력받는다고 전제한다.\n",
        "\n",
        "mon = int(input(\"월(1~12): \"))\n",
        "# 날수의 그룹을 30, 31, 28로 만들고 해당하는 월을 리스트로 묶어준다.\n",
        "\n",
        "a = (1,3,5,7,8,10,12) # 31일을 갖는 달\n",
        "b = (4,6,9,11) # 30일을 갖는 달\n",
        "\n",
        "if mon in a: \n",
        "  print(\"31\")\n",
        "elif mon in b:\n",
        "  print(\"30\")\n",
        "else:\n",
        "  print(\"28\") # 위 두 리스트에 포함 안되는 2월은 무조건 28일"
      ],
      "execution_count": null,
      "outputs": [
        {
          "output_type": "stream",
          "text": [
            "월(1~12): 2\n",
            "28\n"
          ],
          "name": "stdout"
        }
      ]
    },
    {
      "cell_type": "code",
      "metadata": {
        "id": "kkRuLE99SwjC"
      },
      "source": [
        ""
      ],
      "execution_count": null,
      "outputs": []
    },
    {
      "cell_type": "markdown",
      "metadata": {
        "id": "7nsuIsNGSwjD"
      },
      "source": [
        "# 문제 10.\n",
        "- 공백을 포함한 문자열을 입력받아 각 단어로 분리하여 문자열 배열에 저장한 후 입력순서의 반대 순서로 출력하는 프로그램을 작성하시오. 문자열의 길이는 100자 이하이다.\n",
        "- 입력 예: C++ Programing jjang!!\n",
        "- 출력 예:\n",
        "    * jjang!!\n",
        "    * Programing\n",
        "    * C++"
      ]
    },
    {
      "cell_type": "code",
      "metadata": {
        "id": "9ttTE8uASwjD",
        "colab": {
          "base_uri": "https://localhost:8080/"
        },
        "outputId": "927b197b-9786-41f5-b3b5-1a9ba4be46f6"
      },
      "source": [
        "\n",
        "st = input(\"문자열을 입력하세요: \")\n",
        "\n",
        "st_s = st.split() # 입력받은 문자열을 띄어쓰기로 나눠서 리스트로 저장해서\n",
        "\n",
        "print(st_s[::-1]) # 반대로 출력\n"
      ],
      "execution_count": 8,
      "outputs": [
        {
          "output_type": "stream",
          "text": [
            "문자열을 입력하세요: C++ Programing jjang!!\n",
            "['jjang!!', 'Programing', 'C++']\n",
            "\n"
          ],
          "name": "stdout"
        }
      ]
    },
    {
      "cell_type": "code",
      "metadata": {
        "id": "iCCzssCkSwjD"
      },
      "source": [
        ""
      ],
      "execution_count": null,
      "outputs": []
    },
    {
      "cell_type": "code",
      "metadata": {
        "id": "Uy5H_GHMSwjF"
      },
      "source": [
        ""
      ],
      "execution_count": null,
      "outputs": []
    }
  ]
}