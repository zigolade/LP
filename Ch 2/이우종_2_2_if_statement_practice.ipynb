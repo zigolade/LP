{
  "nbformat": 4,
  "nbformat_minor": 0,
  "metadata": {
    "kernelspec": {
      "display_name": "Python 3",
      "language": "python",
      "name": "python3"
    },
    "language_info": {
      "codemirror_mode": {
        "name": "ipython",
        "version": 3
      },
      "file_extension": ".py",
      "mimetype": "text/x-python",
      "name": "python",
      "nbconvert_exporter": "python",
      "pygments_lexer": "ipython3",
      "version": "3.6.6"
    },
    "colab": {
      "name": "이우종_2.2 if_statement_practice.ipynb",
      "provenance": [],
      "collapsed_sections": []
    }
  },
  "cells": [
    {
      "cell_type": "markdown",
      "metadata": {
        "id": "1iYHhTbiJUXx"
      },
      "source": [
        "# 문제 1.\n",
        "- \"FizzBuzz\"문제 \n",
        " - 1에서 100까지의 숫자를 출력하되, \n",
        " - 만약 해당 숫자가 '3'으로 나누어지면 숫자 대신에 \"Fizz\"를 출력하고, \n",
        " - 만약 해당 숫자가 '5'로 나누어지면 숫자 대신에 \"Buzz\"를 출력하며, \n",
        " - 만약 해당 숫자가 '3'과 '5'로 모두 나누어지면 숫자 대신에 \"FizzBuzz\"를 출력\n",
        " - 입력 예1: 5\n",
        " - 출력 예1: \"Buzz\"\n",
        " - 입력 예2: 3\n",
        " - 출력 예2: \"Fizz\"\n",
        " - 입력 예3: 15\n",
        " - 출력 예3: \"FizzBuzz\" "
      ]
    },
    {
      "cell_type": "code",
      "metadata": {
        "colab": {
          "base_uri": "https://localhost:8080/"
        },
        "id": "BvKGCjFxJUX1",
        "outputId": "0e6b0fa8-6235-494e-b8a3-94c1bdadf15b"
      },
      "source": [
        "for i in range(1,101): # 1부터 100까지 순서대로가는데\n",
        "  if i % 3 == 0 and i % 5 == 0: # 마지막으로 3과 5 모두 나누어지는걸 변환시켜 덮어씌운다.\n",
        "    print(\"FizzBuzz\")\n",
        "  elif i % 3 == 0: # 3으로 나누어 떨어지면 Fizz 출력\n",
        "    print(\"Fizz\")\n",
        "  elif i % 5 == 0: # 5로 나누어떨어지면 Buzz 출력\n",
        "    print(\"Buzz\")\n",
        "  else:\n",
        "     print(i)"
      ],
      "execution_count": null,
      "outputs": [
        {
          "output_type": "stream",
          "text": [
            "1\n",
            "2\n",
            "Fizz\n",
            "4\n",
            "Buzz\n",
            "Fizz\n",
            "7\n",
            "8\n",
            "Fizz\n",
            "Buzz\n",
            "11\n",
            "Fizz\n",
            "13\n",
            "14\n",
            "FizzBuzz\n",
            "16\n",
            "17\n",
            "Fizz\n",
            "19\n",
            "Buzz\n",
            "Fizz\n",
            "22\n",
            "23\n",
            "Fizz\n",
            "Buzz\n",
            "26\n",
            "Fizz\n",
            "28\n",
            "29\n",
            "FizzBuzz\n",
            "31\n",
            "32\n",
            "Fizz\n",
            "34\n",
            "Buzz\n",
            "Fizz\n",
            "37\n",
            "38\n",
            "Fizz\n",
            "Buzz\n",
            "41\n",
            "Fizz\n",
            "43\n",
            "44\n",
            "FizzBuzz\n",
            "46\n",
            "47\n",
            "Fizz\n",
            "49\n",
            "Buzz\n",
            "Fizz\n",
            "52\n",
            "53\n",
            "Fizz\n",
            "Buzz\n",
            "56\n",
            "Fizz\n",
            "58\n",
            "59\n",
            "FizzBuzz\n",
            "61\n",
            "62\n",
            "Fizz\n",
            "64\n",
            "Buzz\n",
            "Fizz\n",
            "67\n",
            "68\n",
            "Fizz\n",
            "Buzz\n",
            "71\n",
            "Fizz\n",
            "73\n",
            "74\n",
            "FizzBuzz\n",
            "76\n",
            "77\n",
            "Fizz\n",
            "79\n",
            "Buzz\n",
            "Fizz\n",
            "82\n",
            "83\n",
            "Fizz\n",
            "Buzz\n",
            "86\n",
            "Fizz\n",
            "88\n",
            "89\n",
            "FizzBuzz\n",
            "91\n",
            "92\n",
            "Fizz\n",
            "94\n",
            "Buzz\n",
            "Fizz\n",
            "97\n",
            "98\n",
            "Fizz\n",
            "Buzz\n"
          ],
          "name": "stdout"
        }
      ]
    },
    {
      "cell_type": "code",
      "metadata": {
        "id": "zIGysy0hJUX1"
      },
      "source": [
        ""
      ],
      "execution_count": null,
      "outputs": []
    },
    {
      "cell_type": "markdown",
      "metadata": {
        "id": "oi0U8Rz_JUX2"
      },
      "source": [
        "# 문제 2.\n",
        "- 나이를 입력받아 나이에 따라 지하철 교통요금 출력하는 프로그램을 만드시오.\n",
        "- 8세 미만의 어린이의 지하철 교통요금은 450원이다.\n",
        "- 8세 이상 19세 이하의 청소년 지하철 교통요금은 720원이다.\n",
        "- 20세 이상의 성인 지하철 교통요금은 1250원이다\n",
        "- 입력 예1: 2\n",
        "- 출력 예1: \"450원입니다.\"\n",
        "- 입력 예2: 19\n",
        "- 출력 예2: \"720원입니다.\"\n",
        "- 입력 예3: 82\n",
        "- 출력 예3: \"1250원입니다.\""
      ]
    },
    {
      "cell_type": "code",
      "metadata": {
        "id": "kq2ick70JUX2",
        "colab": {
          "base_uri": "https://localhost:8080/"
        },
        "outputId": "52f072a1-368e-4cf7-a12a-a6eab4ae8be3"
      },
      "source": [
        "age = int(input(\"나이를 입력하세요: \"))\n",
        "\n",
        "if age >= 20: # 가장 일반적인 것부터 기준을 잡는다.\n",
        "  print(\"1250원입니다.\")\n",
        "elif age >= 8: # 중간범위의 요금을 출력한다.\n",
        "  print(\"720원입니다.\")\n",
        "else: # 이게 아동요금이되겠다.\n",
        "  print(\"450원입니다.\")"
      ],
      "execution_count": null,
      "outputs": [
        {
          "output_type": "stream",
          "text": [
            "나이를 입력하세요: 18\n",
            "720원입니다.\n"
          ],
          "name": "stdout"
        }
      ]
    },
    {
      "cell_type": "code",
      "metadata": {
        "id": "UpN__AoCJUX2"
      },
      "source": [
        ""
      ],
      "execution_count": null,
      "outputs": []
    },
    {
      "cell_type": "markdown",
      "metadata": {
        "id": "g4Jo8alTJUX2"
      },
      "source": [
        "# 문제3.\n",
        "- 초를 입력 받아서 시간과 분으로 변환하는 프로그램을 작성하시오.\n",
        "- 입력 예: 3598\n",
        "- 출력 예: 59분 58초"
      ]
    },
    {
      "cell_type": "code",
      "metadata": {
        "id": "-AdrVn_NJUX2",
        "colab": {
          "base_uri": "https://localhost:8080/"
        },
        "outputId": "4c62dabf-5871-44ef-a029-4c499d335aac"
      },
      "source": [
        "x = int(input(\"초를 입력하세요: \"))\n",
        "\n",
        "hour = int(x/3600) # 시간을 보여주기 위해 정수값으로 지정하여 나머지를 버린다.\n",
        "x = x - hour*3600 # 분을 구하기 위해 x에서 시간을 표현한 만큼 제거한다.\n",
        "min = int(x/60) # 분을 보여주기 위해 정수값으로 지정.\n",
        "x = x - min*60 # 초를 구하기 위해 x에서 분을 표현한 만큼 제거한다.\n",
        "sec = x\n",
        "\n",
        "print(hour,\"시간 \",min,\"분 \",sec,\"초\")"
      ],
      "execution_count": null,
      "outputs": [
        {
          "output_type": "stream",
          "text": [
            "초를 입력하세요: 12\n",
            "0 시간  0 분  12 초\n"
          ],
          "name": "stdout"
        }
      ]
    },
    {
      "cell_type": "code",
      "metadata": {
        "id": "NsyiOq-hJUX3"
      },
      "source": [
        ""
      ],
      "execution_count": null,
      "outputs": []
    },
    {
      "cell_type": "markdown",
      "metadata": {
        "id": "22k19yawJUX3"
      },
      "source": [
        "# 문제 4.\n",
        "- 섭씨를 입력받아서 화씨로 변환하는 프로그램을 작성하시오.\n",
        "- 수식:  F(화씨) = 9.0 / 5.0 * C(섭씨)+ 32\n",
        "- 입력 예: 5\n",
        "- 출력 예: 41.0"
      ]
    },
    {
      "cell_type": "code",
      "metadata": {
        "id": "UxlJtTv4JUX3",
        "colab": {
          "base_uri": "https://localhost:8080/"
        },
        "outputId": "ffda601e-13f2-46ac-a478-7d4fa126a6a5"
      },
      "source": [
        "C = int(input(\"섭씨를 입력하세요: \"))\n",
        "\n",
        "F = 9.0/5.0*C+32 # 공식에 대입하여 화씨를 받는다.\n",
        "F = round(F,1) # 주어진 공식에서 소수점 한개까지는 제시하라는 듯하니 소수점을 잡는다.\n",
        "\n",
        "print(F)"
      ],
      "execution_count": null,
      "outputs": [
        {
          "output_type": "stream",
          "text": [
            "섭씨를 입력하세요: 12\n",
            "53.6\n"
          ],
          "name": "stdout"
        }
      ]
    },
    {
      "cell_type": "code",
      "metadata": {
        "id": "AvHxz2xwJUX3"
      },
      "source": [
        ""
      ],
      "execution_count": null,
      "outputs": []
    },
    {
      "cell_type": "markdown",
      "metadata": {
        "id": "_hABR-WmJUX3"
      },
      "source": [
        "# 문제 5.\n",
        "- 화씨를 입력받아서 섭씨로 변환하는 프로그램\n",
        "- 수식: C = (5 * F - 160) / 9.0\n",
        "- 입력 예: 5\n",
        "- 출력 예: -15.0"
      ]
    },
    {
      "cell_type": "code",
      "metadata": {
        "id": "SGmEQ3A3JUX3",
        "colab": {
          "base_uri": "https://localhost:8080/"
        },
        "outputId": "a9aab260-8895-4fe9-e41b-87dcc14c397e"
      },
      "source": [
        "F = int(input(\"화씨를 입력하세요: \"))\n",
        "\n",
        "C = (5 * F - 160) / 9.0 # 공식에 대입하여 섭씨를 받는다.\n",
        "C = round(C,1) # 주어진 공식에서 소수점 한개까지는 제시하라는 듯하니 소수점을 잡는다.\n",
        "\n",
        "print(C)"
      ],
      "execution_count": null,
      "outputs": [
        {
          "output_type": "stream",
          "text": [
            "화씨를 입력하세요: 521\n",
            "271.7\n"
          ],
          "name": "stdout"
        }
      ]
    },
    {
      "cell_type": "code",
      "metadata": {
        "id": "o9M3DrBoJUX4"
      },
      "source": [
        ""
      ],
      "execution_count": null,
      "outputs": []
    },
    {
      "cell_type": "markdown",
      "metadata": {
        "id": "Ah4X8J_FJUX4"
      },
      "source": [
        "# 문제 6.\n",
        "- 영어 알파벳 문자 하나를 입력받아 대소문자를 구분하는 코드를 작성하십시오.\n",
        "- 입력 예1: 'A'\n",
        "- 출력 예1: 대문자입니다.\n",
        "- 입력 예2: 'h'\n",
        "- 출력 예2: 소문자입니다.\n"
      ]
    },
    {
      "cell_type": "code",
      "metadata": {
        "id": "EOO4ey99JUX4",
        "colab": {
          "base_uri": "https://localhost:8080/"
        },
        "outputId": "3cee5d75-5896-4919-b710-6bb5503b3b25"
      },
      "source": [
        "# 대문자 리스트를 만들어서 주어진 문자가 거기 없으면 해당되는 안내 메세지가 출력하게끔하겠다\n",
        "\n",
        "A_list = \"QWERTYUIOPASDFGHJKLZXCVBNM\"\n",
        "\n",
        "x = input(\"알파벳을 하나 치세요: \")\n",
        "\n",
        "if x in A_list:       # 친 알파벳이 대문자 리스트 안에 있으면 대문자입니다 가 나오게한다.\n",
        "  print(\"대문자입니다.\")\n",
        "else:\n",
        "  print(\"소문자입니다.\")"
      ],
      "execution_count": null,
      "outputs": [
        {
          "output_type": "stream",
          "text": [
            "알파벳을 하나 치세요: q\n",
            "소문자입니다\n"
          ],
          "name": "stdout"
        }
      ]
    },
    {
      "cell_type": "code",
      "metadata": {
        "id": "iSNtPB2lJUX4"
      },
      "source": [
        ""
      ],
      "execution_count": null,
      "outputs": []
    },
    {
      "cell_type": "markdown",
      "metadata": {
        "id": "3kNwCcpAJUX4"
      },
      "source": [
        "# 문제 7.\n",
        "- 가상의 두 사람(A, B)이 가위 바위 보 중 하나를 내서 승패를 가르는 가위 바위 보 게임을 작성하십시오.\n",
        "- 이 때 [\"가위\", \"바위\", \"보\"] 리스트를 활용합니다.\n",
        "- 입력 예: \"가위\" \"바위\"\n",
        "- 출력 예: \"B가 이겼습니다.\""
      ]
    },
    {
      "cell_type": "code",
      "metadata": {
        "id": "V1oenGIqJUX4",
        "colab": {
          "base_uri": "https://localhost:8080/"
        },
        "outputId": "c68978e7-0228-45db-f240-59c4bc84a790"
      },
      "source": [
        "RSP = [\"가위\",\"바위\",\"보\"] \n",
        "\n",
        "A = input(\"A: \")\n",
        "B = input(\"B: \")   # A B 입력값을 받는다.\n",
        "\n",
        "while A not in RSP or B not in RSP:   # 입력값이 리스트 안에 없으면 입력을 반복시킨다.\n",
        "  print(\"다시 입력하세요\")\n",
        "  A = input(\"A: \")\n",
        "  B = input(\"B: \")\n",
        "  continue\n",
        "\n",
        "\n",
        "while A in RSP and B in RSP: # 입력값이 리스트 안에 다 있는 경우 조건에 따라 승자를 갈라준다.\n",
        "  if A == B:\n",
        "    print(\"비겼습니다. 다시 입력하세요\")\n",
        "    A = input(\"A: \")\n",
        "    B = input(\"B: \")\n",
        "    while A not in RSP or B not in RSP:\n",
        "      print(\"다시 입력하세요\")\n",
        "      A = input(\"A: \")\n",
        "      B = input(\"B: \")\n",
        "      continue # 비긴후 잘못 입력했을 경우도 무한으로 입력시킨다. \n",
        "    continue\n",
        "  elif A == \"가위\":\n",
        "    if B == \"바위\":\n",
        "      print(\"B가 이겼습니다\")\n",
        "      break                            # 승부가 난 경우는 break로 빠져나오게 한다.\n",
        "    else:\n",
        "      print(\"A가 이겼습니다\")\n",
        "      break\n",
        "  elif A == \"바위\":\n",
        "    if B == \"가위\":\n",
        "      print(\"A가 이겼습니다\")\n",
        "      break\n",
        "    else :\n",
        "      print(\"B가 이겼습니다\")\n",
        "      break\n",
        "  elif A == \"보\":\n",
        "    if B == \"바위\":\n",
        "      print(\"A가 이겼습니다\")\n",
        "      break\n",
        "    else:\n",
        "      print(\"B가 이겼습니다\")\n",
        "      break\n",
        "\n",
        "    \n",
        "\n",
        "\n",
        "\n",
        "    \n",
        "    "
      ],
      "execution_count": null,
      "outputs": [
        {
          "output_type": "stream",
          "text": [
            "A: 가위\n",
            "B: 가위\n",
            "비겼습니다. 다시 입력하세요\n",
            "A: ㅈ\n",
            "B: ㅈ\n",
            "다시 입력하세요\n",
            "A: ㅈ\n",
            "B: ㅈ\n",
            "다시 입력하세요\n",
            "A: 가위\n",
            "B: 바위\n",
            "B가 이겼습니다\n"
          ],
          "name": "stdout"
        }
      ]
    },
    {
      "cell_type": "code",
      "metadata": {
        "id": "auciVsjEJUX4"
      },
      "source": [
        ""
      ],
      "execution_count": null,
      "outputs": []
    },
    {
      "cell_type": "markdown",
      "metadata": {
        "id": "EiwWzx1KJUX4"
      },
      "source": [
        "# 문제 8.\n",
        "- 다음의 결과와 같이 입력된 문자가 대문자일 경우 소문자로, 소문자일 경우 대문자로 변경하고,\n",
        "- 알파벳이 아닐 경우엔 그냥 출력하는 코드를 작성하십시오.\n",
        "- 입력 예1: A\n",
        "- 출력 예1: a\n",
        "- 입력 예2: 가나다\n",
        "- 출력 예2: 가나다\n"
      ]
    },
    {
      "cell_type": "code",
      "metadata": {
        "id": "RIBdtSRzJUX5",
        "colab": {
          "base_uri": "https://localhost:8080/"
        },
        "outputId": "c196deba-14f5-461d-dbbb-1e4a26a41c3d"
      },
      "source": [
        "text = input(\"뭔가 하나 쓰세요: \")\n",
        "\n",
        "alp = \"qwertyuiopasdfghjklzxcvbnmQWERTYUIOPASDFGHJKLZXCVBNM\"\n",
        "\n",
        "# 입력한 글자가 alp(알파벳)인지 먼저 묻고, 맞다면 대문자 소문자 각각 출력시킨다.\n",
        "\n",
        "if text in alp:\n",
        "  if text.isupper()== True:   # isupper로 대문자인지 묻고 맞다면 소문자로 바꿔서 출력시킨다.\n",
        "   print(text.lower())\n",
        "  else:\n",
        "   print(text.upper())\n",
        "else: # 알파벳이 아니면 그대로 출력시킨다.\n",
        "  print(text)"
      ],
      "execution_count": null,
      "outputs": [
        {
          "output_type": "stream",
          "text": [
            "뭔가 하나 쓰세요: \\ㄴㅇ\n",
            "\\ㄴㅇ\n"
          ],
          "name": "stdout"
        }
      ]
    },
    {
      "cell_type": "code",
      "metadata": {
        "id": "03eQF7sGJUX5"
      },
      "source": [
        ""
      ],
      "execution_count": null,
      "outputs": []
    },
    {
      "cell_type": "code",
      "metadata": {
        "id": "nrvzeTIQJUX5"
      },
      "source": [
        ""
      ],
      "execution_count": null,
      "outputs": []
    }
  ]
}