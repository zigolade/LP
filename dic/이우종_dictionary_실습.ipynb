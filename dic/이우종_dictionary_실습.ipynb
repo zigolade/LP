{
  "nbformat": 4,
  "nbformat_minor": 0,
  "metadata": {
    "kernelspec": {
      "display_name": "Python 3",
      "language": "python",
      "name": "python3"
    },
    "language_info": {
      "codemirror_mode": {
        "name": "ipython",
        "version": 3
      },
      "file_extension": ".py",
      "mimetype": "text/x-python",
      "name": "python",
      "nbconvert_exporter": "python",
      "pygments_lexer": "ipython3",
      "version": "3.6.6"
    },
    "colab": {
      "name": "이우종_dictionary 실습.ipynb",
      "provenance": [],
      "collapsed_sections": []
    }
  },
  "cells": [
    {
      "cell_type": "markdown",
      "metadata": {
        "id": "eZZRy2RZnyHT"
      },
      "source": [
        "# 1. 딕셔너리 생성."
      ]
    },
    {
      "cell_type": "code",
      "metadata": {
        "scrolled": false,
        "id": "xJFlmWL7nyHY",
        "outputId": "9646184e-f2b1-4987-ee00-c8dde3e6e299"
      },
      "source": [
        "import numpy as np\n",
        "import matplotlib.pyplot as plt\n",
        "import matplotlib.image as mpimg\n",
        "from PIL import Image\n",
        "\n",
        "plt.style.use(\"default\")\n",
        "jpg_img_arr = mpimg.imread('./img/dic1.png')\n",
        "plt.axis('off')\n",
        "imgplot = plt.imshow(jpg_img_arr)\n",
        "imgplot"
      ],
      "execution_count": null,
      "outputs": [
        {
          "output_type": "execute_result",
          "data": {
            "text/plain": [
              "<matplotlib.image.AxesImage at 0x7fa3e351df98>"
            ]
          },
          "metadata": {
            "tags": []
          },
          "execution_count": 2
        },
        {
          "output_type": "display_data",
          "data": {
            "image/png": "[encoded data removed]",
            "text/plain": [
              "<Figure size 640x480 with 1 Axes>"
            ]
          },
          "metadata": {
            "tags": []
          }
        }
      ]
    },
    {
      "cell_type": "code",
      "metadata": {
        "id": "z7RVOhB3nyHZ"
      },
      "source": [
        "\n",
        "\n",
        "dic = {'meinna':[1000, 10], 'pollapo':[1200, 7], 'ppangppare':[1800, 6], 'Tankboy':[1200, 5], 'Heathunting':[1200, 4], 'Winddcom':[1500,3]}"
      ],
      "execution_count": null,
      "outputs": []
    },
    {
      "cell_type": "markdown",
      "metadata": {
        "id": "sJUN1xRCnyHZ"
      },
      "source": [
        "# 2. 딕셔너리 min/max 값 찾기."
      ]
    },
    {
      "cell_type": "code",
      "metadata": {
        "id": "JJB0oDPSnyHZ",
        "outputId": "30b2f38b-ba43-4a84-a212-21d976c7e1d8"
      },
      "source": [
        "plt.style.use(\"default\")\n",
        "jpg_img_arr = mpimg.imread('./img/dic2.png')\n",
        "plt.axis('off')\n",
        "imgplot = plt.imshow(jpg_img_arr)\n",
        "imgplot"
      ],
      "execution_count": null,
      "outputs": [
        {
          "output_type": "execute_result",
          "data": {
            "text/plain": [
              "<matplotlib.image.AxesImage at 0x7fa3e784a550>"
            ]
          },
          "metadata": {
            "tags": []
          },
          "execution_count": 3
        },
        {
          "output_type": "display_data",
          "data": {
            "image/png": "[encoded data removed]",
            "text/plain": [
              "<Figure size 640x480 with 1 Axes>"
            ]
          },
          "metadata": {
            "tags": []
          }
        }
      ]
    },
    {
      "cell_type": "code",
      "metadata": {
        "colab": {
          "base_uri": "https://localhost:8080/"
        },
        "id": "SK-zYFBynyHa",
        "outputId": "a5247891-34a7-468e-b6b8-06c1fa4ca32f"
      },
      "source": [
        "dic = {'meinna':1000, 'pollapo':1200, 'ppangppare':1800, 'Tankboy':1200, 'Heathunting':1200, 'Winddcom':1500}\n",
        "\n",
        "max(dic.values())"
      ],
      "execution_count": 12,
      "outputs": [
        {
          "output_type": "execute_result",
          "data": {
            "text/plain": [
              "1800"
            ]
          },
          "metadata": {
            "tags": []
          },
          "execution_count": 12
        }
      ]
    },
    {
      "cell_type": "code",
      "metadata": {
        "id": "D01gfyN6nyHa"
      },
      "source": [
        ""
      ],
      "execution_count": null,
      "outputs": []
    },
    {
      "cell_type": "code",
      "metadata": {
        "id": "nHRDGw2HnyHa"
      },
      "source": [
        ""
      ],
      "execution_count": null,
      "outputs": []
    }
  ]
}