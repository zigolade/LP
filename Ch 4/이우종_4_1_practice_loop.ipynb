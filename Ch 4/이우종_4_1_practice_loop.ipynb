{
  "nbformat": 4,
  "nbformat_minor": 0,
  "metadata": {
    "kernelspec": {
      "display_name": "Python 3",
      "language": "python",
      "name": "python3"
    },
    "language_info": {
      "codemirror_mode": {
        "name": "ipython",
        "version": 3
      },
      "file_extension": ".py",
      "mimetype": "text/x-python",
      "name": "python",
      "nbconvert_exporter": "python",
      "pygments_lexer": "ipython3",
      "version": "3.6.6"
    },
    "colab": {
      "name": "이우종_4.1 practice_loop.ipynb",
      "provenance": [],
      "collapsed_sections": []
    }
  },
  "cells": [
    {
      "cell_type": "markdown",
      "metadata": {
        "id": "xOcUY1n6wRnu"
      },
      "source": [
        "# 문제 1.(for)\n",
        "## for 문을 이용하여 1부터 입력받은 정수까지의 합을 구하여 출력하는 프로그램을 작성하시오.\n",
        "- 100 이하의 양의 정수만 입력된다. \n",
        "- 입력 예: 10\n",
        "- 출력 예: 55"
      ]
    },
    {
      "cell_type": "code",
      "metadata": {
        "collapsed": true,
        "colab": {
          "base_uri": "https://localhost:8080/"
        },
        "id": "xqdXgKUkwRnz",
        "outputId": "ec8403c5-d01c-4a3f-a1c8-39fd13914506"
      },
      "source": [
        "n = int(input(\"100이하의 정수를 입력해주세요: \")) \n",
        "sum = 0\n",
        "\n",
        "if n <= 100:      # 100이하의 수일때만 연산 시작\n",
        "  for i in range(1, n+1): # n 까지 더해서 마지막 sum 값만 호출하여 최종 값을 출력한다.\n",
        "    sum += i\n",
        "  print(sum)\n",
        "else:\n",
        "  print(\"100이하의 수를 입력해주세요\")"
      ],
      "execution_count": null,
      "outputs": [
        {
          "output_type": "stream",
          "text": [
            "100이하의 정수를 입력해주세요: 10\n",
            "45\n"
          ],
          "name": "stdout"
        }
      ]
    },
    {
      "cell_type": "markdown",
      "metadata": {
        "id": "ayTLta2YwRnz"
      },
      "source": [
        "# 문제 2.\n",
        "## 정수를 계속 입력받다가 100 이상의 수가 입력이 되면 마지막 입력된 수를 포함하여 합계와 평균을 출력하는 프로그램을 작성하시오.\n",
        "\n",
        "- 평균은 반올림하여 소수 첫째자리까지 출력한다."
      ]
    },
    {
      "cell_type": "code",
      "metadata": {
        "colab": {
          "base_uri": "https://localhost:8080/"
        },
        "id": "BWvIM1GWwRnz",
        "outputId": "aae159a2-918b-4177-ebec-c859120f1ad8"
      },
      "source": [
        "# while 구문으로 100이하의 조건일때 반복시키다가 100이상의 수가 입력되면 빠져나오면서 결과를 출력하고 싶다.\n",
        "\n",
        "print(\"100 이상의 수를 넣으면 그 수까지 포함된 결과가 나오며 프로그램이 종료됩니다.\") # 친절하게 설명해준다.\n",
        "n = int(input(\"수를 입력하세요: \"))\n",
        "sum = 0 # 합계의 변수\n",
        "i = 0 # 횟수의 변수\n",
        "\n",
        "while n < 100:\n",
        "  sum += n\n",
        "  i += 1 \n",
        "  n = int(input(\"다음수를 입력하세요: \")) # 새로 수를 또 받고 continue로 반복시킨다.\n",
        "  continue\n",
        "\n",
        "sum += n # 100 이상의 수가 입력되면 반복문에서 나올 것이기 때문에 마지막으로 더해준다.\n",
        "i += 1\n",
        "avr = round(sum / i, 1) # 평균. 소수점 첫째자리까지 출력.\n",
        "\n",
        "print(\"합계:\",sum)\n",
        "print(\"평균:\",avr)\n",
        "\n"
      ],
      "execution_count": null,
      "outputs": [
        {
          "output_type": "stream",
          "text": [
            "100 이상의 수를 넣으면 그 수까지 포함된 결과가 나오며 프로그램이 종료됩니다.\n",
            "수를 입력하세요: 4\n",
            "다음수를 입력하세요: 6\n",
            "다음수를 입력하세요: 99\n",
            "다음수를 입력하세요: 101\n",
            "합계: 210\n",
            "평균: 52.5\n"
          ],
          "name": "stdout"
        }
      ]
    },
    {
      "cell_type": "markdown",
      "metadata": {
        "id": "j3CYlj5-wRn0"
      },
      "source": [
        "# 문제 3.\n",
        "## 정수를 입력받아서 3의 배수가 아닌 경우에는 아무 작업도 하지 않고, 3의 배수인 경우에는 3으로 나눈몫을 출력하는 작업을 반복하다가 -1이 입력되면 종료하는 프로그램을 작성하시오.\n",
        "예시:\n",
        "- 5\n",
        "- 12 \n",
        "- <h2>4</h2>\n",
        "- 21\n",
        "- <h2>7</h2>\n",
        "- 100\n",
        "- -1"
      ]
    },
    {
      "cell_type": "code",
      "metadata": {
        "colab": {
          "base_uri": "https://localhost:8080/"
        },
        "id": "9-z1LuLZwRn0",
        "outputId": "7053a297-971d-4c4a-ec9b-97914f97825b"
      },
      "source": [
        "# while 구문을 활용하되 조건을 != -1 로 설정하면 될 것 같다.\n",
        "\n",
        "n = int(input(\"정수를 입력하세요: \")) # 수를 받고\n",
        "\n",
        "while n != -1: # -1이 아니면 반복해서 숫자를 받고\n",
        "  if n % 3 == 0:   # 만약 3의 배수면\n",
        "    print(n//3)    # 3으로 나눈 몫을 출력하고\n",
        "  else:\n",
        "    print(n)       # 아니면 그냥 출력한다.\n",
        "  n = int(input(\"다음수를 입력하세요: \"))  \n",
        "  \n",
        "print(\"종료\")"
      ],
      "execution_count": null,
      "outputs": [
        {
          "output_type": "stream",
          "text": [
            "정수를 입력하세요: 1\n",
            "1\n",
            "다음수를 입력하세요: 2\n",
            "2\n",
            "다음수를 입력하세요: 3\n",
            "1\n",
            "다음수를 입력하세요: 4\n",
            "4\n",
            "다음수를 입력하세요: 5\n",
            "5\n",
            "다음수를 입력하세요: 6\n",
            "2\n",
            "다음수를 입력하세요: 7\n",
            "7\n",
            "다음수를 입력하세요: -1\n",
            "종료\n"
          ],
          "name": "stdout"
        }
      ]
    },
    {
      "cell_type": "markdown",
      "metadata": {
        "id": "mFNAQy-JwRn0"
      },
      "source": [
        "# 보너스(for)\n",
        "## 아래와 같은 모양으로 출력하는 프로그램을 작성하시오.\n",
        " - 사용자에게 숫자를 입력받아 입력 받은 높이 만큼의 삼각형을 출력하시오.\n",
        " - 입력 예: 5"
      ]
    },
    {
      "cell_type": "code",
      "metadata": {
        "id": "8l9T4vjTwRn0"
      },
      "source": [
        "    *\n",
        "   **\n",
        "  ***\n",
        " ****\n",
        "*****"
      ],
      "execution_count": null,
      "outputs": []
    },
    {
      "cell_type": "code",
      "metadata": {
        "colab": {
          "base_uri": "https://localhost:8080/"
        },
        "id": "VmtCZFriwRn1",
        "outputId": "aa730afa-d8d5-46c4-d64b-917ff7f99305"
      },
      "source": [
        "# for 쓰면 될거같긴한데 오른쪽에 몰아서 정렬이라니 흠흠\n",
        "# (입력한수-1) 만큼의 공백을 앞에 출력해서 마지막에 * 달면 될거같다.\n",
        "\n",
        "n = int(input(\"높이를 입력하세요: \"))\n",
        "\n",
        "for i in range(1, n+1):\n",
        "  print(\" \"*(n-i),\"*\"*i)"
      ],
      "execution_count": null,
      "outputs": [
        {
          "output_type": "stream",
          "text": [
            "높이를 입력하세요: 5\n",
            "     *\n",
            "    **\n",
            "   ***\n",
            "  ****\n",
            " *****\n"
          ],
          "name": "stdout"
        }
      ]
    },
    {
      "cell_type": "code",
      "metadata": {
        "id": "RvEcOr5qwRn1"
      },
      "source": [
        ""
      ],
      "execution_count": null,
      "outputs": []
    },
    {
      "cell_type": "markdown",
      "metadata": {
        "id": "JORJ-ip1wRn1"
      },
      "source": [
        "# 문제 4. \n",
        "## 아래와 같이 나라 이름을 출력하고 숫자를 입력받아 해당하는 나라의 수도를 출력하는 작업을 반복하다가 해당하는 번호 이외의 숫자가 입력되면 \"none\"라고 출력한 후 종료하는 프로그램을 작성하시오.\n",
        "\n",
        "* 각 나라의 수도 : \n",
        "- 대한민국 = 서울(Seoul)\n",
        "- 미국 = 워싱턴(Washington)\n",
        "- 일본 = 동경(Tokyo)\n",
        "- 중국 = 북경(Beijing)\n",
        "\n",
        "예시\n",
        "입력 예:\n",
        "1. Korea\n",
        "2. USA\n",
        "3. Japan\n",
        "4. China\n",
        "number? 1\n",
        "\n",
        "출력 예:\n",
        "Seoul\n",
        "\n",
        "1. Korea\n",
        "2. USA\n",
        "3. Japan\n",
        "4. China\n",
        "number? 5\n",
        "\n",
        "none"
      ]
    },
    {
      "cell_type": "code",
      "metadata": {
        "id": "Utu_CHhgwRn1",
        "colab": {
          "base_uri": "https://localhost:8080/"
        },
        "outputId": "30338202-7123-482e-d289-05b27b743911"
      },
      "source": [
        "while True :\n",
        "  num = int(input(\"각나라의 수도:\\n1. Korea\\n2. USA\\n3. Japan\\n4. China\\n번호를 입력하세요: \")) # 목록을 작성하고\n",
        "  if num == 1: # 해당 번호를 입력했을 때 나오는 도시 이름을 설정해놓고\n",
        "    print(\"Seoul\")\n",
        "  elif num == 2 :\n",
        "    print(\"Washington\")\n",
        "  elif num == 3 :\n",
        "    print(\"Tokyo\")\n",
        "  elif num == 4 :\n",
        "    print(\"Beijing\")\n",
        "  else : # 1.2.3.4. 가 아닌 다른번호가 나오면 break로 종료한다.\n",
        "    print(\"none\")\n",
        "    break"
      ],
      "execution_count": 4,
      "outputs": [
        {
          "output_type": "stream",
          "text": [
            "각나라의 수도:\n",
            "1. Korea\n",
            "2. USA\n",
            "3. Japan\n",
            "4. China\n",
            "번호를 입력하세요: 3\n",
            "Tokyo\n",
            "각나라의 수도:\n",
            "1. Korea\n",
            "2. USA\n",
            "3. Japan\n",
            "4. China\n",
            "번호를 입력하세요: 4\n",
            "Beijing\n",
            "각나라의 수도:\n",
            "1. Korea\n",
            "2. USA\n",
            "3. Japan\n",
            "4. China\n",
            "번호를 입력하세요: 5\n",
            "none\n"
          ],
          "name": "stdout"
        }
      ]
    },
    {
      "cell_type": "code",
      "metadata": {
        "id": "McZcXFYiwRn1"
      },
      "source": [
        ""
      ],
      "execution_count": null,
      "outputs": []
    },
    {
      "cell_type": "markdown",
      "metadata": {
        "id": "iA4g65UNwRn1"
      },
      "source": [
        "# 문제 5.\n",
        "## 0 이상의 정수들이 공백으로 구분되어 반복적으로 주어진다. 0이 입력되면 반복문을 멈추고 그 전까지 입력받은 수들에 대하여 홀수의 개수와 짝수의 개수를 출력하는 프로그램을 작성하시오.\n",
        "- 입력 예: 9 7 10 5 33 65 0\n",
        "- 출력 예: \n",
        " odd : 5\n",
        " even : 1"
      ]
    },
    {
      "cell_type": "code",
      "metadata": {
        "id": "4fq9MzeawRn2",
        "colab": {
          "base_uri": "https://localhost:8080/"
        },
        "outputId": "34d9906c-a4e3-47a7-f6e9-0e398cff0ea9"
      },
      "source": [
        "# 얼마나 많은 수를 입력받을지 모르므로 while문으로 시작한다.\n",
        "\n",
        "list = \"\" # 공백으로 구분되어 반복적으로 보여주기위해 하나로 묶는다.\n",
        "n = int(input(\"input: \"))\n",
        "odd = 0 # 초기 홀수갯수\n",
        "even = 0 # 초기 짝수갯수\n",
        "\n",
        "\n",
        "while n != 0:  \n",
        "  list += \" \"+str(n)    # 반복하는 동안 문자열 list에는 띄어쓰기 + 숫자를 더해간다.\n",
        "  if n % 2 == 0:        # n이 홀수면 odd에, 짝수면 even 에 +1을 해간다\n",
        "    even += 1\n",
        "  if n % 2 == 1:\n",
        "    odd += 1\n",
        "  print(list)\n",
        "  n = int(input(\"input: \"))\n",
        "\n",
        "print(list + \" 0\")\n",
        "print(\"odd:\",odd,\"even:\",even)\n",
        "\n",
        "\n"
      ],
      "execution_count": 15,
      "outputs": [
        {
          "output_type": "stream",
          "text": [
            "input: 1\n",
            " 1\n",
            "input: 2\n",
            " 1 2\n",
            "input: 24\n",
            " 1 2 24\n",
            "input: 66\n",
            " 1 2 24 66\n",
            "input: 75\n",
            " 1 2 24 66 75\n",
            "input: 0\n",
            " 1 2 24 66 75 0\n",
            "odd: 2 even: 3\n"
          ],
          "name": "stdout"
        }
      ]
    },
    {
      "cell_type": "code",
      "metadata": {
        "id": "CYjnIGTDwRn2"
      },
      "source": [
        ""
      ],
      "execution_count": null,
      "outputs": []
    },
    {
      "cell_type": "markdown",
      "metadata": {
        "id": "J02JjZQgwRn2"
      },
      "source": [
        "# 문제 6.\n",
        "## 삼각형의 밑변의 길이와 높이를 입력받아 넓이를 출력하고, \"Continue? \"에서 하나의 문자를 입력받아 그 문자가 'Y' 나 'y' 이면 작업을 반복하고 다른 문자이면 종료하는 프로그램을 작성하시오.\n",
        "\n",
        "- 넓이는 반올림하여 소수 첫째자리까지 출력한다.\n",
        "예시\n",
        "###### Base = 11\n",
        "###### Height = 5\n",
        "###### Triangle width = 27.5\n",
        "###### Continue? Y\n",
        "###### Base = 10\n",
        "###### Height = 10\n",
        "###### Triangle width = 50.0\n",
        "###### Continue? N"
      ]
    },
    {
      "cell_type": "code",
      "metadata": {
        "id": "Fkr4O65CwRn2",
        "colab": {
          "base_uri": "https://localhost:8080/"
        },
        "outputId": "85a3083f-0b9b-45c5-b155-990cfcdd9294"
      },
      "source": [
        "# 언제까지 수를 받을지 모를땐 역시 while\n",
        "\n",
        "while x == \"y\" or x == \"Y\": # x 가 문자열 y나 문자열 Y 일때 계속 반복한다.\n",
        "  l = int(input(\"밑변: \"))\n",
        "  h = int(input(\"높이: \"))\n",
        "  width = round((l * h) / 2, 1)\n",
        "  print(\"넓이: \",width)\n",
        "  print(\"Continue?\")\n",
        "  x = input()\n",
        "\n"
      ],
      "execution_count": 25,
      "outputs": [
        {
          "output_type": "stream",
          "text": [
            "밑변: 2\n",
            "높이: 4\n",
            "넓이:  4.0\n",
            "Continue?\n",
            "y\n",
            "밑변: 2\n",
            "높이: 4\n",
            "넓이:  4.0\n",
            "Continue?\n",
            "n\n"
          ],
          "name": "stdout"
        }
      ]
    },
    {
      "cell_type": "code",
      "metadata": {
        "id": "n2V2h3fCwRn2"
      },
      "source": [
        ""
      ],
      "execution_count": null,
      "outputs": []
    },
    {
      "cell_type": "markdown",
      "metadata": {
        "id": "TT1qAWlQwRn2"
      },
      "source": [
        "# 문제 7.(for)\n",
        "## 100 이하의 두 개의 정수를 입력받아 작은 수부터 큰 수까지 차례대로 출력하는 프로그램을 작성하시오.\n",
        "- 입력 예: 5 10\n",
        "- 출력 예: 5 6 7 8 9 10"
      ]
    },
    {
      "cell_type": "code",
      "metadata": {
        "id": "IxhTrhn4wRn3",
        "colab": {
          "base_uri": "https://localhost:8080/"
        },
        "outputId": "fa39d7a6-7134-4584-9819-7cc7fbeb60f1"
      },
      "source": [
        "first = int(input(\"첫번째 수:\"))\n",
        "second = int(input(\"두번째 수:\"))\n",
        "\n",
        "i = [] # 출력할 리스트를 준비\n",
        "\n",
        "# 작은수부터 큰수이므로 두 수 중 어느게 큰지 확인해야한다.\n",
        "if first > second: # 반복문을 돌면서 인자를 리스트에 추가해나간 후 마지막에 출력한다.\n",
        "  for x in range(second, first+1): \n",
        "    i.append(x)\n",
        "elif second > first:\n",
        "  for x in range(first, second+1):\n",
        "    i.append(x)\n",
        "print(i)"
      ],
      "execution_count": 36,
      "outputs": [
        {
          "output_type": "stream",
          "text": [
            "첫번째 수:5\n",
            "두번째 수:2\n",
            "[2, 3, 4, 5]\n"
          ],
          "name": "stdout"
        }
      ]
    },
    {
      "cell_type": "markdown",
      "metadata": {
        "id": "dUp9ANUIwRn3"
      },
      "source": [
        "# 문제 8.(for)\n",
        "## 두 개의 정수를 입력받아 두 정수 사이(두 정수를 포함)에 3의 배수이거나 5의 배수인 수들의 합과 평균을 출력하는 프로그램을 작성하시오.\n",
        "- 평균은 반올림하여 소수 첫째자리까지 출력한다.\n",
        "- 입력 예: 10 15\n",
        "- 출력 예: \n",
        "sum : 37\n",
        "avg : 12.3"
      ]
    },
    {
      "cell_type": "code",
      "metadata": {
        "id": "ihh5IZMfwRn3",
        "colab": {
          "base_uri": "https://localhost:8080/"
        },
        "outputId": "e0500c89-f2d4-43a5-cd6c-4c2631b7df9f"
      },
      "source": [
        "# 윗문제에서 만든 리스트를 그대로 차용해서 쓰겠다.\n",
        "\n",
        "first = int(input(\"첫번째 수:\"))\n",
        "second = int(input(\"두번째 수:\"))\n",
        "\n",
        "sum = 0 # 합을 준비한다.\n",
        "n = 0 # 평균을 구하기 위해 횟수를 준비한다.\n",
        "\n",
        "\n",
        "\n",
        "\n",
        "# 두 수 중 어느게 큰지 확인해야한다.\n",
        "\n",
        "if first > second: # 반복문을 돌면서 인자를 리스트에 추가해나간다.\n",
        "  for x in range(second, first+1): \n",
        "    if x % 3 == 0 or x % 5 == 0 :    # 반복문을 돌면서 3의 배수 혹은 5의 배수인 숫자를 찾아 더해간다. \n",
        "      sum += x\n",
        "      n += 1\n",
        "    \n",
        "elif second > first:\n",
        "  for x in range(first, second+1):\n",
        "    if x % 3 == 0 or x % 5 == 0 :     \n",
        "      sum += x\n",
        "      n += 1\n",
        "      \n",
        "avg = round(sum / n, 1) # 평균은 소숫점 첫째자리까지로 요구했다.\n",
        "print(\"sum: \",sum,\"avg: \",avg)"
      ],
      "execution_count": 41,
      "outputs": [
        {
          "output_type": "stream",
          "text": [
            "첫번째 수:1\n",
            "두번째 수:10\n",
            "sum:  33 avg:  6.6\n"
          ],
          "name": "stdout"
        }
      ]
    },
    {
      "cell_type": "markdown",
      "metadata": {
        "id": "HjIBWC7UwRn3"
      },
      "source": [
        "# 문제 9. (for)\n",
        "## 2부터 9까지의 수 중 2개를 입력받아 입력받은 수 사이의 구구단을 출력하는 프로그램을 작성하시오.\n",
        "- 단 반드시 먼저 입력된 수의 구구단부터 아래의 형식에 맞게 출력하여야 한다.\n",
        "- 구구단 사이의 공백은 3칸이다.\n",
        "- 입력 예: 5 3\n",
        "- 출력 예:\n",
        "5 * 1 =  5   4 * 1 =  4   3 * 1 =  3\n",
        "5 * 2 = 10   4 * 2 =  8   3 * 2 =  6\n",
        "5 * 3 = 15   4 * 3 = 12   3 * 3 =  9\n",
        "5 * 4 = 20   4 * 4 = 16   3 * 4 = 12\n",
        "5 * 5 = 25   4 * 5 = 20   3 * 5 = 15\n",
        "5 * 6 = 30   4 * 6 = 24   3 * 6 = 18\n",
        "5 * 7 = 35   4 * 7 = 28   3 * 7 = 21\n",
        "5 * 8 = 40   4 * 8 = 32   3 * 8 = 24\n",
        "5 * 9 = 45   4 * 9 = 36   3 * 9 = 27"
      ]
    },
    {
      "cell_type": "code",
      "metadata": {
        "id": "FexSFd1uwRn3",
        "colab": {
          "base_uri": "https://localhost:8080/"
        },
        "outputId": "81229dfc-3bf2-4800-a3d4-7485bedc9ff8"
      },
      "source": [
        "first = int(input(\"첫번째 수:\"))\n",
        "second = int(input(\"두번째 수:\"))\n",
        " \n",
        "for i in range(1,10):   # 1부터 9까지 곱하므로 범위는 1, 10\n",
        "  for u in range(0,second):\n",
        "    print((first - u), \"*\", i, \"=\", (first - u) * i, end=\"   \")  # 띄어쓰기 세칸으로 나뉘게끔 end 옵션을 살포시.\n",
        "    \n",
        "# 막상 만들어보니 위에 있던 별로 삼각형 만드는거랑 비슷하다..."
      ],
      "execution_count": 71,
      "outputs": [
        {
          "output_type": "stream",
          "text": [
            "첫번째 수:5\n",
            "두번째 수:3\n",
            "5 * 1 = 5   4 * 1 = 4   3 * 1 = 3   5 * 2 = 10   4 * 2 = 8   3 * 2 = 6   5 * 3 = 15   4 * 3 = 12   3 * 3 = 9   5 * 4 = 20   4 * 4 = 16   3 * 4 = 12   5 * 5 = 25   4 * 5 = 20   3 * 5 = 15   5 * 6 = 30   4 * 6 = 24   3 * 6 = 18   5 * 7 = 35   4 * 7 = 28   3 * 7 = 21   5 * 8 = 40   4 * 8 = 32   3 * 8 = 24   5 * 9 = 45   4 * 9 = 36   3 * 9 = 27   "
          ],
          "name": "stdout"
        }
      ]
    },
    {
      "cell_type": "code",
      "metadata": {
        "id": "DhMYQZqXwRn3"
      },
      "source": [
        ""
      ],
      "execution_count": null,
      "outputs": []
    },
    {
      "cell_type": "markdown",
      "metadata": {
        "id": "2fsv5E1WwRn3"
      },
      "source": [
        "# 보너스2 (for)\n",
        "## 아래와 같은 모양으로 출력하는 프로그램을 작성하시오.\n",
        " - 사용자에게 숫자를 입력받아 입력 받은 높이 만큼의 삼각형을 출력하시오.\n",
        " - 입력 예: 5"
      ]
    },
    {
      "cell_type": "code",
      "metadata": {
        "id": "xDSWO5tWwRn4"
      },
      "source": [
        "*****\n",
        " ****\n",
        "  ***\n",
        "   **\n",
        "    *"
      ],
      "execution_count": null,
      "outputs": []
    },
    {
      "cell_type": "code",
      "metadata": {
        "id": "5EFAl9vywRn4",
        "colab": {
          "base_uri": "https://localhost:8080/"
        },
        "outputId": "dc93a91c-4ce7-436e-95eb-73e97d4bd433"
      },
      "source": [
        "# 입력받은 수에 따라 앞에 공백 만들고 뒤에 별만들고 반복하기, 위에만들었던 것의 작은 응용이네.\n",
        "\n",
        "n = int(input(\"숫자:\"))\n",
        "\n",
        "for i in range(0,n):\n",
        "  print((\" \" * i) + (\"*\" * (n-i)))\n",
        "  \n",
        "\n"
      ],
      "execution_count": 69,
      "outputs": [
        {
          "output_type": "stream",
          "text": [
            "숫자:9\n",
            "*********\n",
            " ********\n",
            "  *******\n",
            "   ******\n",
            "    *****\n",
            "     ****\n",
            "      ***\n",
            "       **\n",
            "        *\n"
          ],
          "name": "stdout"
        }
      ]
    },
    {
      "cell_type": "code",
      "metadata": {
        "id": "Ll7sVoiYwRn4"
      },
      "source": [
        ""
      ],
      "execution_count": null,
      "outputs": []
    },
    {
      "cell_type": "code",
      "metadata": {
        "id": "dtppaqYbwRn4"
      },
      "source": [
        ""
      ],
      "execution_count": null,
      "outputs": []
    }
  ]
}