{
  "nbformat": 4,
  "nbformat_minor": 0,
  "metadata": {
    "kernelspec": {
      "display_name": "Python 3",
      "language": "python",
      "name": "python3"
    },
    "language_info": {
      "codemirror_mode": {
        "name": "ipython",
        "version": 3
      },
      "file_extension": ".py",
      "mimetype": "text/x-python",
      "name": "python",
      "nbconvert_exporter": "python",
      "pygments_lexer": "ipython3",
      "version": "3.6.6"
    },
    "colab": {
      "name": "이우종_4.2 practice loop2.ipynb",
      "provenance": [],
      "collapsed_sections": [
        "qgQPG3LBTWMF"
      ]
    }
  },
  "cells": [
    {
      "cell_type": "markdown",
      "metadata": {
        "id": "H7VkQJKyTWL3"
      },
      "source": [
        "# 문제 1.\n",
        "## 1부터 100까지의 정수 중 한 개를 입력받아 100 보다 작은 배수들을 차례로 출력하다가 10 의 배수가 출력되면 프로그램을 종료하도록 프로그램을 작성하시오.\n",
        "- 입력 예: 7\n",
        "- 출력 예: 7 14 21 28 35 42 49 56 63 70"
      ]
    },
    {
      "cell_type": "code",
      "metadata": {
        "id": "8dbvUfGfTWL9",
        "colab": {
          "base_uri": "https://localhost:8080/"
        },
        "outputId": "8154252a-0f01-410b-ecaa-85c32a5e1741"
      },
      "source": [
        "num = int(input(\"num: \")) # 수받고\n",
        "\n",
        "i = 1 #곱할 수를 일단 1부터 시작\n",
        "\n",
        "while True:\n",
        "  st = print(num * i,\" \", end=\" \") # 하나하나 곱해가면서 문자열로 연결\n",
        "  i += 1\n",
        "  if num * i % 10 == 0: # 10의 배수 등장하면 break\n",
        "    st = print(num*i)\n",
        "    break\n",
        "\n",
        "      \n",
        "\n"
      ],
      "execution_count": 16,
      "outputs": [
        {
          "output_type": "stream",
          "text": [
            "num: 5\n",
            "5   10\n"
          ],
          "name": "stdout"
        }
      ]
    },
    {
      "cell_type": "code",
      "metadata": {
        "id": "5UpCtHA4TWL-",
        "outputId": "7989443d-d716-42bb-d9a1-5e76a6a53e5e"
      },
      "source": [
        ""
      ],
      "execution_count": null,
      "outputs": [
        {
          "output_type": "stream",
          "text": [
            "입력: 13\n",
            "출력: 13 26 39 52 65 78 91 "
          ],
          "name": "stdout"
        }
      ]
    },
    {
      "cell_type": "code",
      "metadata": {
        "id": "MFeJKxTKTWL_",
        "outputId": "c5664710-5017-4721-88bb-3284506df27c"
      },
      "source": [
        ""
      ],
      "execution_count": null,
      "outputs": [
        {
          "output_type": "stream",
          "text": [
            "입력: 13\n",
            "출력: 13 26 39 52 65 78 91 "
          ],
          "name": "stdout"
        }
      ]
    },
    {
      "cell_type": "code",
      "metadata": {
        "id": "ykwYusIgTWL_"
      },
      "source": [
        ""
      ],
      "execution_count": null,
      "outputs": []
    },
    {
      "cell_type": "markdown",
      "metadata": {
        "id": "ajUXHjJ2TWL_"
      },
      "source": [
        "# 문제 2.\n",
        "## 자연수 n을 입력받아 \"출력 예\"와 같이 공백으로 구분하여 출력하는 프로그램을 작성하시오.\n",
        "- 입력 예: 3"
      ]
    },
    {
      "cell_type": "code",
      "metadata": {
        "id": "ghCXG2bATWMA"
      },
      "source": [
        "    1\n",
        "  1 2\n",
        "1 2 3\n",
        "\n",
        "    1\n",
        "  1 3\n",
        "1 3 5\n",
        "    "
      ],
      "execution_count": null,
      "outputs": []
    },
    {
      "cell_type": "code",
      "metadata": {
        "id": "z-zJFTG3TWMA",
        "colab": {
          "base_uri": "https://localhost:8080/"
        },
        "outputId": "44c7a448-54b7-4dbc-fa62-2ba1400a8c4c"
      },
      "source": [
        "# 잘 모르겠다.... 해석이 안된다.\n",
        "# for row in range(n):\n",
        "#   for col in range(n):\n",
        "#       if col >= (n-1)-row:\n",
        "\n",
        "\n",
        "\n",
        "n = int(input(\"num: \"))\n",
        "\n",
        "for i in range(n):\n",
        "  print(\" \"* (n-1),i+1, (n+2) * i)"
      ],
      "execution_count": 21,
      "outputs": [
        {
          "output_type": "stream",
          "text": [
            "num: 3\n",
            "   4 0\n",
            "   4 5\n",
            "   4 10\n"
          ],
          "name": "stdout"
        }
      ]
    },
    {
      "cell_type": "code",
      "metadata": {
        "id": "vey7_stuTWMA"
      },
      "source": [
        ""
      ],
      "execution_count": null,
      "outputs": []
    },
    {
      "cell_type": "markdown",
      "metadata": {
        "id": "J4UnDb7XTWMB"
      },
      "source": [
        "# 문제 3.\n",
        "## 자연수 n을 입력받아 \"출력 예\"와 같이 공백으로 구분하여 출력되는 프로그램을 작성하시오.\n",
        "- 입력 예 : 3"
      ]
    },
    {
      "cell_type": "code",
      "metadata": {
        "id": "S4lv-jzkTWMB"
      },
      "source": [
        "1 2 3\n",
        "  4 5\n",
        "    6\n",
        "    \n",
        "1 3 5\n",
        "  7 9\n",
        "    11    "
      ],
      "execution_count": null,
      "outputs": []
    },
    {
      "cell_type": "code",
      "metadata": {
        "id": "OlDjVuShTWMB",
        "outputId": "943a9366-74f0-44ee-dc56-0d84c029f3ab"
      },
      "source": [
        "skip"
      ],
      "execution_count": null,
      "outputs": [
        {
          "output_type": "stream",
          "text": [
            "입력: 3\n",
            "1 2 3 \n",
            "  4 5 \n",
            "    6 \n"
          ],
          "name": "stdout"
        }
      ]
    },
    {
      "cell_type": "code",
      "metadata": {
        "id": "eegwKwlKTWMB"
      },
      "source": [
        ""
      ],
      "execution_count": null,
      "outputs": []
    },
    {
      "cell_type": "code",
      "metadata": {
        "id": "eNX-aemJTWMB"
      },
      "source": [
        ""
      ],
      "execution_count": null,
      "outputs": []
    },
    {
      "cell_type": "markdown",
      "metadata": {
        "id": "L769g7YpTWMC"
      },
      "source": [
        "# 문제 4.\n",
        "## 10개의 정수를 입력받아 100 미만의 수 중 가장 큰 수와 100 이상의 수 중 가장 작은 수를 출력하는 프로그램을 작성하시오.\n",
        "- List 데이터 구조를 활용하시오.\n",
        "- 입력 예: 88 123 659 15 443 1 99 313 105 48\n",
        "- 출력 예: 99 105"
      ]
    },
    {
      "cell_type": "code",
      "metadata": {
        "id": "tzeyHI87TWMC",
        "colab": {
          "base_uri": "https://localhost:8080/"
        },
        "outputId": "acb0fe35-2ef4-408a-d22b-e58715d22a32"
      },
      "source": [
        "list = []\n",
        "\n",
        "while len(list) != 10: # 리스트안의 목록이 10개가 될때까지 반복\n",
        "  num = int(input(\"num: \"))\n",
        "  list.append(num)\n",
        "  if len(list) == 10:\n",
        "    break\n",
        "\n",
        "\n",
        "print(list)\n",
        "print(max(list)) # 최대값 최소값 출력\n",
        "print(min(list))"
      ],
      "execution_count": 28,
      "outputs": [
        {
          "output_type": "stream",
          "text": [
            "num: 1\n",
            "num: 2\n",
            "num: 3\n",
            "num: 4\n",
            "num: 5\n",
            "num: 6\n",
            "num: 7\n",
            "num: 8\n",
            "num: 9\n",
            "num: 0\n",
            "[1, 2, 3, 4, 5, 6, 7, 8, 9, 0]\n",
            "9\n"
          ],
          "name": "stdout"
        }
      ]
    },
    {
      "cell_type": "code",
      "metadata": {
        "id": "-FN0mhPvTWMD"
      },
      "source": [
        ""
      ],
      "execution_count": null,
      "outputs": []
    },
    {
      "cell_type": "code",
      "metadata": {
        "id": "_4FZmGxqTWMD"
      },
      "source": [
        ""
      ],
      "execution_count": null,
      "outputs": []
    },
    {
      "cell_type": "markdown",
      "metadata": {
        "id": "3zJOeTW7TWMD"
      },
      "source": [
        "# 문제 5.\n",
        "## 리스트을 선언한 후 정수를 차례로 입력 받다가 -1이 입력되면 입력을 중단하고, -1을 제외한 마지막 세 개의 정수를 출력하는 프로그램을 작성하시오. \n",
        "- 입력받은 정수가 -1을 제외하고 3개 미만일 경우에는 -1을 제외하고 입력받은 정수를 모두 출력한다.\n",
        "- 입력 예: 30 20 10 60 80 -1\n",
        "- 출력 예: 10 60 80"
      ]
    },
    {
      "cell_type": "code",
      "metadata": {
        "id": "wsmKhqTrTWMD",
        "colab": {
          "base_uri": "https://localhost:8080/"
        },
        "outputId": "1f00499e-e1ac-4c7f-81b6-6558b129c970"
      },
      "source": [
        "list = []\n",
        "n = int(input(\"정수: \"))\n",
        "\n",
        "while n != -1:\n",
        "  list.append(n) # 리스트에 추가해나가면서\n",
        "  # print(list)\n",
        "  n = int(input(\"정수: \"))\n",
        "    \n",
        "\n",
        "print(list[:-4:-1]) # 역순으로 출력"
      ],
      "execution_count": 41,
      "outputs": [
        {
          "output_type": "stream",
          "text": [
            "정수: 1\n",
            "정수: -1\n",
            "[1]\n"
          ],
          "name": "stdout"
        }
      ]
    },
    {
      "cell_type": "code",
      "metadata": {
        "id": "Ijd1xzzUTWME"
      },
      "source": [
        ""
      ],
      "execution_count": null,
      "outputs": []
    },
    {
      "cell_type": "markdown",
      "metadata": {
        "id": "nkhBLviATWME"
      },
      "source": [
        "# 문제 6. \n",
        "## 사용자에게 base문자열을 첫 줄에 입력받고,  다음으로 찾고자하는 문자 1개를 입력받아 문자열 내의 검색 문자의 모든 위치를 출력하는 프로그램을 작성하시오.\n",
        "- 첫 번째 위치는 0번이며 리스트에 없는 문자가 입력되면 \"none\" 라는 메시지를 출력하고 끝내는 프로그램을 작성하시오.\n",
        "- 예제: \"my name is dean\" 을 base 문자열로 입력하고, 찾고자 하는 문자를 'd'로 입력하면 11을 출력해주면 된다.\n",
        "- 만약, 찾으려는 문자가 2개 이상인 경우에는 모든 위치를 출력해준다."
      ]
    },
    {
      "cell_type": "code",
      "metadata": {
        "id": "ELANBc-zTWME",
        "colab": {
          "base_uri": "https://localhost:8080/"
        },
        "outputId": "efa76ba6-7665-4bd0-d77b-4d7f78048712"
      },
      "source": [
        "sen = input(\"write: \")\n",
        "alp = input(\"찾고싶은 문자: \")\n",
        "\n",
        "loc = [] # 위치를 알려줄 리스트 묶음이다.\n",
        "\n",
        "\n",
        "for i in range(len(sen)): # 문장을 하나하나 찾아본다.\n",
        "  if alp == sen[i]: \n",
        "    loc.append(i)  # 찾고싶은 문자와 일치하는 i값을 리스트에 입력한다.\n",
        "\n",
        "if len(loc) == 0: # 리스트에 아무것도 안들어있다면 none을 출력한다.\n",
        "  print(\"none\")\n",
        "\n",
        "print(loc)"
      ],
      "execution_count": 43,
      "outputs": [
        {
          "output_type": "stream",
          "text": [
            "write: my name is dean\n",
            "찾고싶은 문자: d\n",
            "[11]\n"
          ],
          "name": "stdout"
        }
      ]
    },
    {
      "cell_type": "code",
      "metadata": {
        "id": "wT_CJ7HYTWME",
        "outputId": "55335568-fdba-49ca-c1a4-edeb18d69f12"
      },
      "source": [
        ""
      ],
      "execution_count": null,
      "outputs": [
        {
          "output_type": "stream",
          "text": [
            "입력 문자열: my name is dean\n",
            "찾고 싶은 문자: a\n",
            "[4, 13]\n"
          ],
          "name": "stdout"
        }
      ]
    },
    {
      "cell_type": "code",
      "metadata": {
        "id": "mfXtZ3fxTWME"
      },
      "source": [
        ""
      ],
      "execution_count": null,
      "outputs": []
    },
    {
      "cell_type": "markdown",
      "metadata": {
        "id": "IK0VW7efTWMF"
      },
      "source": [
        "# 문제 7.\n",
        "## 학생들의 점수를 입력을 받다가 0이 입력되면 그 때까지 입력받은 점수를 10점 단위로 구분하여 점수대별 학생 수를 출력하는 프로그램을 작성하시오. \n",
        "- 1명도 없는 점수는 출력하지 않는다.\n",
        "- 입력 예: 63 80 95 100 46 64 88 0"
      ]
    },
    {
      "cell_type": "code",
      "metadata": {
        "id": "s1Uylg0GTWMF"
      },
      "source": [
        "출력 예: \n",
        "100 : 1 person\n",
        "90 : 1 person\n",
        "80 : 2 person\n",
        "60 : 2 person\n",
        "40 : 1 person"
      ],
      "execution_count": null,
      "outputs": []
    },
    {
      "cell_type": "code",
      "metadata": {
        "id": "oexl5SuxTWMF",
        "colab": {
          "base_uri": "https://localhost:8080/"
        },
        "outputId": "d4ddc15a-6406-43a9-ad28-195fcfad8663"
      },
      "source": [
        "# 점수대별로 리스트를 만든다.\n",
        "\n",
        "a = [] # a 부터 100점, 90점 80점 ....\n",
        "b = []\n",
        "c = []\n",
        "d = []\n",
        "e = []\n",
        "num = int(input(\"점수는?: \"))\n",
        "\n",
        "while num != 0:\n",
        "  if num >= 90:\n",
        "    a.append(num)\n",
        "    num = int(input(\"점수는?: \"))\n",
        "    continue\n",
        "  elif num >=80:\n",
        "    b.append(num)\n",
        "    num = int(input(\"점수는?: \"))\n",
        "    continue\n",
        "  elif num >=70:\n",
        "    c.append(num)\n",
        "    num = int(input(\"점수는?: \"))\n",
        "    continue\n",
        "  elif num >=60:\n",
        "    d.append(num)\n",
        "    num = int(input(\"점수는?: \"))\n",
        "    continue\n",
        "  elif num > 0:  # 뭐 반복이므로 60점 아래로는 10점씩 안자르고 편의상 여기서 자르겠다.\n",
        "    e.append(num)\n",
        "    num = int(input(\"점수는?: \"))\n",
        "    continue\n",
        "  if num == 0: # 0이 입력도면 탈출한다.\n",
        "    break\n",
        "\n",
        "print(\"90점이상: \", len(a),\"명\")  # 리스트에 포함된 점수의 갯수로 사람수를 체크한다.\n",
        "print(\"80점이상: \", len(b),\"명\")\n",
        "print(\"70점이상: \", len(c),\"명\")\n",
        "print(\"60점이상: \", len(d),\"명\")\n",
        "print(\"60점 미만: \", len(e),\"명\")"
      ],
      "execution_count": 45,
      "outputs": [
        {
          "output_type": "stream",
          "text": [
            "점수는?: 92\n",
            "점수는?: 55\n",
            "점수는?: 84\n",
            "점수는?: 78\n",
            "점수는?: 93\n",
            "점수는?: 89\n",
            "점수는?: 92\n",
            "점수는?: 93\n",
            "점수는?: 0\n",
            "90점이상:  4\n",
            "80점이상:  2\n",
            "70점이상:  1\n",
            "60점이상:  0\n",
            "60점 미만:  1\n"
          ],
          "name": "stdout"
        }
      ]
    },
    {
      "cell_type": "markdown",
      "metadata": {
        "id": "LdNDnhSsTWMF"
      },
      "source": [
        "# 문제 8.\n",
        "## 소수(prime number)란 1보다 큰 자연수 중 1과 자기 자신 두 개만을 약수로 갖는 수를 말한다. \n",
        "- 자연수 M과 N을 입력받아 M부터 N까지 소수의 개수를 구하여 출력하는 프로그램을 작성하시오.\n",
        "- M이상 N이하의 자연수 중 소수가 몇 개인지 구하여 출력한다.\n",
        "- 입력 예: 10 100\n",
        "- 출력 예: 21"
      ]
    },
    {
      "cell_type": "code",
      "metadata": {
        "id": "zZHvnbhlTWMF",
        "colab": {
          "base_uri": "https://localhost:8080/"
        },
        "outputId": "82ac85d2-07fc-49bc-b942-69439b14adaa"
      },
      "source": [
        "n1 = int(input(\"첫번째수: \"))\n",
        "n2 = int(input(\"두번째수: \"))\n",
        "# 문제 성격성 무조건 첫번째 수가 작다고 가정하겠다.\n",
        "\n",
        "prime_num = 0 # 소수의 갯수다.\n",
        "\n",
        "for i in range(n1, n2 + 1): #두 자연수의 사이의 수를 돌려보면서\n",
        "  num = 0 # 약수의 갯수\n",
        "  for x in range(1, i+1):\n",
        "    if i % x ==0:\n",
        "      num += 1\n",
        "  if num == 2: # 1과 자기자신으로만 나눠떨어진다면 소수다.\n",
        "    prime_num += 1\n",
        "\n",
        "print(prime_num)"
      ],
      "execution_count": 50,
      "outputs": [
        {
          "output_type": "stream",
          "text": [
            "첫번째수: 4\n",
            "두번째수: 11\n",
            "3\n"
          ],
          "name": "stdout"
        }
      ]
    },
    {
      "cell_type": "code",
      "metadata": {
        "id": "1NsP9BjsTWMF"
      },
      "source": [
        ""
      ],
      "execution_count": null,
      "outputs": []
    },
    {
      "cell_type": "markdown",
      "metadata": {
        "id": "qgQPG3LBTWMF"
      },
      "source": [
        "# 보너스\n",
        "## 자연수 M과 N이 주어질 때 M이상 N이하의 자연수 중 소수인 것을 모두 골라 이들 소수의 합과 최소값을 찾는 프로그램을 작성하시오.\n",
        "\n",
        "- 예를 들어 M=60, N=100이 경우 60이상 100이하의 자연수 중 소수는 61, 67, 71, 73, 79, 83, 89, 97 총 8개가 있으므로, \n",
        "- 이들 소수의 합은 620이고, 최소값은 61이 된다."
      ]
    },
    {
      "cell_type": "code",
      "metadata": {
        "id": "LPxwsAuKTWMG"
      },
      "source": [
        ""
      ],
      "execution_count": null,
      "outputs": []
    },
    {
      "cell_type": "code",
      "metadata": {
        "id": "W9IqZ8uWTWMG"
      },
      "source": [
        ""
      ],
      "execution_count": null,
      "outputs": []
    },
    {
      "cell_type": "markdown",
      "metadata": {
        "id": "dozRhDI9TWMG"
      },
      "source": [
        "# 문제 9.\n",
        "## 아래의 결과를 보이도록 프로그램을 작성하시오."
      ]
    },
    {
      "cell_type": "code",
      "metadata": {
        "id": "nzkC-nytTWMG"
      },
      "source": [
        "   *\n",
        "  ***\n",
        " *****\n",
        "*******"
      ],
      "execution_count": null,
      "outputs": []
    },
    {
      "cell_type": "code",
      "metadata": {
        "id": "8BYEu6T-TWMG",
        "colab": {
          "base_uri": "https://localhost:8080/"
        },
        "outputId": "1576cf34-bac3-460d-a78f-a322f424b09e"
      },
      "source": [
        "n = int(input(\"높이를 입력하세요: \"))\n",
        "\n",
        "for i in range(1, n+1):\n",
        "  print(\" \"*(n-i),\"*\"*((i*2)-1),\" \"*(n-i))"
      ],
      "execution_count": 52,
      "outputs": [
        {
          "output_type": "stream",
          "text": [
            "높이를 입력하세요: 4\n",
            "    *    \n",
            "   ***   \n",
            "  *****  \n",
            " ******* \n"
          ],
          "name": "stdout"
        }
      ]
    },
    {
      "cell_type": "code",
      "metadata": {
        "id": "oEfm-Fy-TWMG"
      },
      "source": [
        ""
      ],
      "execution_count": null,
      "outputs": []
    },
    {
      "cell_type": "markdown",
      "metadata": {
        "id": "h0gk-KWqTWMG"
      },
      "source": [
        "# 문제 10.\n",
        "## 아래의 피라미드 모형을 출력하시오.\n",
        "- 출력 결과에서 #은 공백(space)로 처리해도 됨."
      ]
    },
    {
      "cell_type": "code",
      "metadata": {
        "id": "Q10Ot5DgTWMG"
      },
      "source": [
        "###*###\n",
        "##***##\n",
        "#*****#\n",
        "*******\n",
        "#*****#\n",
        "##***##\n",
        "###*###"
      ],
      "execution_count": null,
      "outputs": []
    },
    {
      "cell_type": "code",
      "metadata": {
        "id": "3EDAtsriTWMH"
      },
      "source": [
        " *\n",
        "***\n",
        " *"
      ],
      "execution_count": null,
      "outputs": []
    },
    {
      "cell_type": "code",
      "metadata": {
        "id": "d0vCqeRZTWMH"
      },
      "source": [
        "# for 구문으로 이해가 잘 안되니 이런게 나오면 못푸는구나.;;"
      ],
      "execution_count": null,
      "outputs": []
    },
    {
      "cell_type": "markdown",
      "metadata": {
        "id": "ppf3R7b0TWMH"
      },
      "source": [
        "# 보너스2\n",
        "## 삼각형의 높이 N을 입력받아서 아래와 같이 문자 'A'부터 차례대로 왼쪽 대각선으로 채워서 삼각형 모양을 출력하는 프로그램을 작성하시오.\n",
        "- 입력 예 : 5"
      ]
    },
    {
      "cell_type": "code",
      "metadata": {
        "id": "4fRMsq9nTWMH"
      },
      "source": [
        "        A\n",
        "      B F\n",
        "    C G J\n",
        "  D H K M\n",
        "E I L N O"
      ],
      "execution_count": null,
      "outputs": []
    },
    {
      "cell_type": "code",
      "metadata": {
        "id": "803j1nowTWMH"
      },
      "source": [
        ""
      ],
      "execution_count": null,
      "outputs": []
    },
    {
      "cell_type": "code",
      "metadata": {
        "id": "q7PLmHVWTWMH"
      },
      "source": [
        ""
      ],
      "execution_count": null,
      "outputs": []
    },
    {
      "cell_type": "markdown",
      "metadata": {
        "id": "i8sOzGgcTWMH"
      },
      "source": [
        "# 문제 11.\n",
        "## 2진수를 입력받아 10진수로 변환하여 출력하는 프로그램을 작성하시오.\n",
        "- 입력 예: 10101\n",
        "- 출력 예: 21"
      ]
    },
    {
      "cell_type": "code",
      "metadata": {
        "id": "3j2GnSNdTWMH",
        "outputId": "ed6aadd8-2178-4f55-ea33-1945aeef11a8"
      },
      "source": [
        "two = input(\"2진수를 입력하시오: \")\n",
        "\n",
        "two_rev = two[::-1] # 글자를 뒤집는다.\n",
        "\n",
        "n = 0\n",
        "value = 0 # 출력할 10진수 값\n",
        "\n",
        "for i in range(len(two_rev)):\n",
        "    value += int(two_rev[i]) * (2**n)  # 인덱스가 하나 늘어날때마다 2**n 의 n값을 하나씩 늘려서 더해준다.\n",
        "    n = n+1\n",
        "\n",
        "\n",
        "print(value)"
      ],
      "execution_count": null,
      "outputs": [
        {
          "output_type": "stream",
          "text": [
            ":o\n"
          ],
          "name": "stdout"
        }
      ]
    },
    {
      "cell_type": "code",
      "metadata": {
        "id": "yyYsAXTOTWMI"
      },
      "source": [
        ""
      ],
      "execution_count": null,
      "outputs": []
    },
    {
      "cell_type": "markdown",
      "metadata": {
        "id": "NUq-gpBoTWMI"
      },
      "source": [
        "# 문제 12.\n",
        "\n",
        "## 복호화 키와 암호 문자를 입력으로 받아 원문을 구하는 프로그램을 구현하시오. 복호화 키는 26개의 소문자로 주어지며, a,b,c,d... 를 순서대로 복호화 키 문자로 대치한다는 것을 뜻한다.\n",
        "\n",
        " \n",
        "\n",
        "- 예를 들어, 복호화 키가 \"eydbkmiqugjxlvtzpnwohracsf\" 와 같이 주어진다고 하자, \n",
        "\n",
        "- 그러면 이는 다음과 같다 - a 문자는 e, b 문자는 y, ..., z 문자는 f로 바꿔줌.\n",
        "\n",
        "- 암호화 된 문자는 대소문자 혹은 공백이 올수 있고 대소문자는 대문자로 소문자는 소문자로 치환 규칙에 맞게 출력하고 , \n",
        "\n",
        "- 공백문자는 그대로 출력한다.\n",
        "\n",
        "- 입력 예: \n",
        "- eydbkmiqugjxlvtzpnwohracsf\n",
        "- Kifq oua zarxa suar bti yaagrj fa xtfgrj\n",
        "- 출력 예:\n",
        "- Jump the fence when you seeing me coming"
      ]
    },
    {
      "cell_type": "code",
      "metadata": {
        "id": "ALn65YeQTWMI",
        "colab": {
          "base_uri": "https://localhost:8080/",
          "height": 222
        },
        "outputId": "67ec379d-a949-4d32-e67f-e40571656dbc"
      },
      "source": [
        "# 에고 스킵\n",
        "\n",
        "alp = \"abcdefghijklmnopqrstuvwxyz\"\n",
        "ALP = alp.upper()\n",
        "\n",
        "bok = input(\"복호화키: \")\n",
        "py = input(\"평서문: \")\n",
        "\n",
        "\n",
        "for n in range(len(py)): # 우선 평서문의 길이만큼 하나하나 글자를 따져본다.\n",
        "  py[n] == "
      ],
      "execution_count": 56,
      "outputs": [
        {
          "output_type": "error",
          "ename": "NameError",
          "evalue": "ignored",
          "traceback": [
            "\u001b[0;31m---------------------------------------------------------------------------\u001b[0m",
            "\u001b[0;31mNameError\u001b[0m                                 Traceback (most recent call last)",
            "\u001b[0;32m<ipython-input-56-6114fb74712e>\u001b[0m in \u001b[0;36m<module>\u001b[0;34m()\u001b[0m\n\u001b[1;32m      1\u001b[0m \u001b[0malp\u001b[0m \u001b[0;34m=\u001b[0m \u001b[0;34m\"abcdefghijklmnopqrstuvwxyz\"\u001b[0m\u001b[0;34m\u001b[0m\u001b[0;34m\u001b[0m\u001b[0m\n\u001b[0;32m----> 2\u001b[0;31m \u001b[0mAPL\u001b[0m \u001b[0;34m=\u001b[0m \u001b[0mupper\u001b[0m\u001b[0;34m(\u001b[0m\u001b[0malp\u001b[0m\u001b[0;34m)\u001b[0m\u001b[0;34m\u001b[0m\u001b[0;34m\u001b[0m\u001b[0m\n\u001b[0m\u001b[1;32m      3\u001b[0m \u001b[0;34m\u001b[0m\u001b[0m\n\u001b[1;32m      4\u001b[0m \u001b[0mprint\u001b[0m\u001b[0;34m(\u001b[0m\u001b[0mAPL\u001b[0m\u001b[0;34m)\u001b[0m\u001b[0;34m\u001b[0m\u001b[0;34m\u001b[0m\u001b[0m\n",
            "\u001b[0;31mNameError\u001b[0m: name 'upper' is not defined"
          ]
        }
      ]
    },
    {
      "cell_type": "code",
      "metadata": {
        "id": "CS0tblcpTWMJ"
      },
      "source": [
        ""
      ],
      "execution_count": null,
      "outputs": []
    },
    {
      "cell_type": "markdown",
      "metadata": {
        "id": "Hie3wjYzTWMK"
      },
      "source": [
        "# diamond code"
      ]
    },
    {
      "cell_type": "code",
      "metadata": {
        "id": "lRoKPxtdTWMK",
        "outputId": "0e5e6ef7-ef1a-4d02-ced8-9bafd25110a6"
      },
      "source": [
        ""
      ],
      "execution_count": null,
      "outputs": [
        {
          "output_type": "stream",
          "text": [
            "Enter a floor of diamond(odd)[quit: -1]: 3\n",
            "  *  \n",
            " *** \n",
            "  *  \n",
            "Enter a floor of diamond(odd)[quit: -1]: 1\n",
            "*\n",
            "Enter a floor of diamond(odd)[quit: -1]: 5\n",
            "    *    \n",
            "   ***   \n",
            "  *****  \n",
            "   ***   \n",
            "    *    \n",
            "Enter a floor of diamond(odd)[quit: -1]: 7\n",
            "      *      \n",
            "     ***     \n",
            "    *****    \n",
            "   *******   \n",
            "    *****    \n",
            "     ***     \n",
            "      *      \n",
            "Enter a floor of diamond(odd)[quit: -1]: -1\n"
          ],
          "name": "stdout"
        }
      ]
    },
    {
      "cell_type": "code",
      "metadata": {
        "id": "xhiH0rszTWMK"
      },
      "source": [
        ""
      ],
      "execution_count": null,
      "outputs": []
    },
    {
      "cell_type": "code",
      "metadata": {
        "id": "ZNaXh146TWMK"
      },
      "source": [
        ""
      ],
      "execution_count": null,
      "outputs": []
    },
    {
      "cell_type": "code",
      "metadata": {
        "id": "3KbG0CgSTWMK",
        "outputId": "20de8dcc-4548-4b06-b7bb-2786a8a216e1"
      },
      "source": [
        ""
      ],
      "execution_count": null,
      "outputs": [
        {
          "output_type": "stream",
          "text": [
            "mid: 0\n",
            "*\n",
            "==================\n",
            "mid: 1\n",
            " * \n",
            "***\n",
            " * \n",
            "==================\n",
            "mid: 2\n",
            "  *  \n",
            " *** \n",
            "*****\n",
            " *** \n",
            "  *  \n",
            "==================\n",
            "mid: 3\n",
            "   *   \n",
            "  ***  \n",
            " ***** \n",
            "*******\n",
            " ***** \n",
            "  ***  \n",
            "   *   \n",
            "==================\n",
            "mid: 4\n",
            "    *    \n",
            "   ***   \n",
            "  *****  \n",
            " ******* \n",
            "*********\n",
            " ******* \n",
            "  *****  \n",
            "   ***   \n",
            "    *    \n",
            "==================\n"
          ],
          "name": "stdout"
        }
      ]
    },
    {
      "cell_type": "code",
      "metadata": {
        "id": "KEMNHkJVTWML"
      },
      "source": [
        ""
      ],
      "execution_count": null,
      "outputs": []
    },
    {
      "cell_type": "code",
      "metadata": {
        "id": "6TTc4ui7TWML"
      },
      "source": [
        ""
      ],
      "execution_count": null,
      "outputs": []
    },
    {
      "cell_type": "code",
      "metadata": {
        "id": "UwabX15tTWMM"
      },
      "source": [
        ""
      ],
      "execution_count": null,
      "outputs": []
    },
    {
      "cell_type": "code",
      "metadata": {
        "id": "qfSTD7_HTWMM"
      },
      "source": [
        ""
      ],
      "execution_count": null,
      "outputs": []
    }
  ]
}